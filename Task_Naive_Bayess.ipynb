{
  "nbformat": 4,
  "nbformat_minor": 0,
  "metadata": {
    "colab": {
      "name": "Task - Naive Bayes Afinzaki Amiral.ipynb",
      "provenance": []
    },
    "kernelspec": {
      "name": "python3",
      "display_name": "Python 3"
    },
    "language_info": {
      "name": "python"
    }
  },
  "cells": [
    {
      "cell_type": "markdown",
      "source": [
        "- Naive bayes merupakan teori probabiltias dasar yang dapat digunakan sebagai klasifikasi AI\n",
        "\n",
        "- Dataset \"titanic.csv\" merepsentasikan penumpang mana saja yang hidup berdasarkan kriteria2 yang tersedia.\n",
        "\n",
        "- Buatlah system klasifikasi menggunakan naive bayes menggunakan metode Naive Bayes.\n",
        "\n",
        "- Saya legalkan teman2 menggunakan library sklearn untuk membuat algorima naive bayes\n",
        "\n",
        "- Pengjelasan code di kirimkan dalam bentuk pdf atau gitlab (bebas) . \n",
        "- Jika dalam bentuk gitlab, setup link menjadi public"
      ],
      "metadata": {
        "id": "O344Q7Mda91y"
      }
    },
    {
      "cell_type": "code",
      "execution_count": 1,
      "metadata": {
        "id": "n8GsBI0mBQq9"
      },
      "outputs": [],
      "source": [
        "import pandas as pd\n",
        "import numpy as np\n",
        "import matplotlib.pyplot as plt\n",
        "import time\n",
        "from sklearn.model_selection import train_test_split\n",
        "from sklearn.naive_bayes import GaussianNB"
      ]
    },
    {
      "cell_type": "code",
      "source": [
        "from google.colab import files\n",
        "uploaded = files.upload()"
      ],
      "metadata": {
        "colab": {
          "resources": {
            "http://localhost:8080/nbextensions/google.colab/files.js": {
              "data": "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",
              "ok": true,
              "headers": [
                [
                  "content-type",
                  "application/javascript"
                ]
              ],
              "status": 200,
              "status_text": ""
            }
          },
          "base_uri": "https://localhost:8080/",
          "height": 73
        },
        "id": "QM7nwegZBn9g",
        "outputId": "bf1d95c0-57dc-4bb8-b08c-6dbb3f2ad840"
      },
      "execution_count": 2,
      "outputs": [
        {
          "output_type": "display_data",
          "data": {
            "text/html": [
              "\n",
              "     <input type=\"file\" id=\"files-ba7be697-20f6-4fbc-8984-b4dcb3db8e81\" name=\"files[]\" multiple disabled\n",
              "        style=\"border:none\" />\n",
              "     <output id=\"result-ba7be697-20f6-4fbc-8984-b4dcb3db8e81\">\n",
              "      Upload widget is only available when the cell has been executed in the\n",
              "      current browser session. Please rerun this cell to enable.\n",
              "      </output>\n",
              "      <script src=\"/nbextensions/google.colab/files.js\"></script> "
            ],
            "text/plain": [
              "<IPython.core.display.HTML object>"
            ]
          },
          "metadata": {}
        },
        {
          "output_type": "stream",
          "name": "stdout",
          "text": [
            "Saving Titanic.csv to Titanic.csv\n"
          ]
        }
      ]
    },
    {
      "cell_type": "code",
      "source": [
        "uploaded"
      ],
      "metadata": {
        "colab": {
          "base_uri": "https://localhost:8080/"
        },
        "id": "xZRgVtogBu_Y",
        "outputId": "cb28adfa-ab61-4473-fbe0-9eef21b78c14"
      },
      "execution_count": 3,
      "outputs": [
        {
          "output_type": "execute_result",
          "data": {
            "text/plain": [
              "{'Titanic.csv': b'Name,PClass,Age,Sex,Survived\\r\\n\"Allen, Miss Elisabeth Walton\",1st,29,female,1\\r\\n\"Allison, Miss Helen Loraine\",1st,2,female,0\\r\\n\"Allison, Mr Hudson Joshua Creighton\",1st,30,male,0\\r\\n\"Allison, Mrs Hudson JC (Bessie Waldo Daniels)\",1st,25,female,0\\r\\n\"Allison, Master Hudson Trevor\",1st,0.92,male,1\\r\\n\"Anderson, Mr Harry\",1st,47,male,1\\r\\n\"Andrews, Miss Kornelia Theodosia\",1st,63,female,1\\r\\n\"Andrews, Mr Thomas, jr\",1st,39,male,0\\r\\n\"Appleton, Mrs Edward Dale (Charlotte Lamson)\",1st,58,female,1\\r\\n\"Artagaveytia, Mr Ramon\",1st,71,male,0\\r\\n\"Astor, Colonel John Jacob\",1st,47,male,0\\r\\n\"Astor, Mrs John Jacob (Madeleine Talmadge Force)\",1st,19,female,1\\r\\n\"Aubert, Mrs Leontine Pauline\",1st,,female,1\\r\\n\"Barkworth, Mr Algernon H\",1st,,male,1\\r\\n\"Baumann, Mr John D\",1st,,male,0\\r\\n\"Baxter, Mrs James (Helene DeLaudeniere Chaput)\",1st,50,female,1\\r\\n\"Baxter, Mr Quigg Edmond\",1st,24,male,0\\r\\n\"Beattie, Mr Thomson\",1st,36,male,0\\r\\n\"Beckwith, Mr Richard Leord\",1st,37,male,1\\r\\n\"Beckwith, Mrs Richard Leord (Sallie Monypeny)\",1st,47,female,1\\r\\n\"Behr, Mr Karl Howell\",1st,26,male,1\\r\\n\"Birnbaum, Mr Jakob\",1st,25,male,0\\r\\n\"Bishop, Mr Dickinson H\",1st,25,male,1\\r\\n\"Bishop, Mrs Dickinson H (Helen Walton)\",1st,19,female,1\\r\\n\"Bjornstrm-Steffansson, Mr Mauritz Hakan\",1st,28,male,1\\r\\n\"Blackwell, Mr Stephen Weart\",1st,45,male,0\\r\\n\"Blank, Mr Henry\",1st,39,male,1\\r\\n\"Bonnell, Miss Caroline\",1st,30,female,1\\r\\n\"Bonnell, Miss Elizabeth\",1st,58,female,1\\r\\n\"Borebank, Mr John James\",1st,,male,0\\r\\n\"Bowen, Miss Grace Scott\",1st,45,female,1\\r\\n\"Bowerman, Miss Elsie Edith\",1st,22,female,1\\r\\n\"Bradley, Mr George\",1st,,male,1\\r\\n\"Brady, Mr John Bertram\",1st,41,male,0\\r\\n\"Brandeis, Mr Emil\",1st,48,male,0\\r\\n\"Brewe, Dr Arthur Jackson\",1st,,male,0\\r\\n\"Brown, Mrs James Joseph (Margaret Molly\"\" Tobin)\"\"\",1st,44,female,1\\r\\n\"Brown, Mrs John Murray (Caroline Lane Lamson)\",1st,59,female,1\\r\\n\"Bucknell, Mrs William Robert (Emma Eliza Ward)\",1st,60,female,1\\r\\n\"Butt, Major Archibald Willingham\",1st,45,male,0\\r\\n\"Calderhead, Mr Edward P\",1st,,male,1\\r\\n\"Candee, Mrs Edward (Helen Churchill Hungerford)\",1st,53,female,1\\r\\n\"Cardeza, Mrs James Warburton Martinez (Charlotte Wardle Drake)\",1st,58,female,1\\r\\n\"Cardeza, Mr Thomas Drake Martinez\",1st,36,male,1\\r\\n\"Carlsson, Mr Frans Olof\",1st,33,male,0\\r\\n\"Carrau, Mr Francisco M\",1st,,male,0\\r\\n\"Carrau, Mr Jose Pedro\",1st,,male,0\\r\\n\"Carter, Mr William Ernest\",1st,36,male,1\\r\\n\"Carter, Mrs William Ernest (Lucile Polk)\",1st,36,female,1\\r\\n\"Carter, Miss Lucile Polk\",1st,14,female,1\\r\\n\"Carter, Master William T II\",1st,11,male,1\\r\\n\"Case, Mr Howard Brown\",1st,49,male,0\\r\\n\"Cassebeer, Mrs Henry Arthur jr (Genevieve Fosdick)\",1st,,female,1\\r\\n\"Cavendish, Mr Tyrell William\",1st,36,male,0\\r\\n\"Cavendish, Mrs Tyrell William Julia Florence Siegel\",1st,,female,1\\r\\n\"Chaffee, Mr Herbert Fuller\",1st,46,male,0\\r\\n\"Chaffee, Mrs Herbert Fuller (Carrie Constance Toogood)\",1st,47,female,1\\r\\n\"Chambers, Mr Norman Campbell\",1st,27,male,1\\r\\n\"Chambers, Mrs Norman Campbell (Bertha Griggs)\",1st,31,female,1\\r\\n\"Cherry, Miss Gladys\",1st,,female,1\\r\\n\"Chevre, Mr Paul\",1st,,male,1\\r\\n\"Chibll (Bowerman), Mrs Edith Martha\",1st,,female,1\\r\\n\"Chisholm, Mr Roderick Robert\",1st,,male,0\\r\\n\"Clark, Mr Walter Miller\",1st,27,male,0\\r\\n\"Clark, Mrs Walter Miller (Virginia McDowell)\",1st,26,female,1\\r\\n\"Clifford, Mr George Quincy\",1st,,male,0\\r\\n\"Colley, Mr Edward Pomeroy\",1st,,male,0\\r\\n\"Compton, Mrs Alexander Taylor (Mary Eliza Ingersoll)\",1st,64,female,1\\r\\n\"Compton, Mr Alexander Taylor, Jr\",1st,37,male,0\\r\\n\"Compton, Miss Sara Rebecca\",1st,39,female,1\\r\\n\"Cornell, Mrs Robert Clifford (Malvi Helen Lamson)\",1st,55,female,1\\r\\n\"Crafton, Mr John Bertram\",1st,,male,0\\r\\n\"Crosby, Captain Edward Gifford\",1st,70,male,0\\r\\n\"Crosby, Mrs Edward Gifford (Catherine Elizabeth Halstead)\",1st,69,female,1\\r\\n\"Crosby, Miss Harriet R\",1st,36,female,1\\r\\n\"Cumings, Mr John Bradley\",1st,39,male,0\\r\\n\"Cumings, Mrs John Bradley (Florence Briggs Thayer)\",1st,38,female,1\\r\\n\"Daly, Mr Peter Denis \",1st,,male,1\\r\\n\"Daniel, Mr Robert Williams\",1st,27,male,1\\r\\n\"Davidson, Mr Thornton\",1st,31,male,0\\r\\n\"Davidson, Mrs Thornton (Orian Hays)\",1st,27,female,1\\r\\n\"de Villiers, Madame Berthe\",1st,,female,1\\r\\n\"Dick, Mr Albert Adrian\",1st,31,male,1\\r\\n\"Dick, Mrs Albert Adrian Vera Gillespie\",1st,17,female,1\\r\\n\"Dodge, Dr Washington\",1st,,male,1\\r\\n\"Dodge, Mrs Washington (Ruth Vidaver)\",1st,,female,1\\r\\n\"Dodge, Master Washington\",1st,4,male,1\\r\\n\"Douglas, Mrs Frederick Charles (Suzette Baxter)\",1st,27,female,1\\r\\n\"Douglas, Mr Walter Dold\",1st,50,male,0\\r\\n\"Douglas, Mrs Walter Dold (Mahala Dutton)\",1st,48,female,1\\r\\n\"Duff Gordon, Sir Cosmo Edmund\",1st,49,male,1\\r\\n\"Duff Gordon, Lady (Lucille Wallace Sutherland)\",1st,48,female,1\\r\\n\"Dulles, Mr William Crothers\",1st,39,male,0\\r\\n\"Earnshaw, Mrs Boulton (Olive Potter)\",1st,23,female,1\\r\\n\"Eustis, Miss Elizabeth Mussey\",1st,53,female,1\\r\\n\"Evans, Miss Edith Corse\",1st,36,female,0\\r\\n\"Flegenheim, Mrs Alfred (Antoinette)\",1st,,female,1\\r\\n\"Flynn, Mr John Irving\",1st,,male,1\\r\\n\"Foreman, Mr Benjamin Laventall\",1st,30,male,0\\r\\n\"Fortune, Miss Alice Elizabeth\",1st,24,female,1\\r\\n\"Fortune, Mr Charles Alexander\",1st,19,male,0\\r\\n\"Fortune, Miss Ethel Flora\",1st,28,female,1\\r\\n\"Fortune, Miss Mabel\",1st,23,female,1\\r\\n\"Fortune, Mr Mark\",1st,64,male,0\\r\\n\"Fortune, Mrs Mark (Mary McDougald)\",1st,60,female,1\\r\\n\"Franklin, Mr Thomas Parham\",1st,,male,0\\r\\n\"Frauenthal, Dr Henry William\",1st,49,male,1\\r\\n\"Frauenthal, Mrs Henry William (Clara Heinsheimer)\",1st,,female,1\\r\\n\"Frauenthal, Mr Isaac Gerald\",1st,44,male,1\\r\\n\"Frolicher, Miss Marguerite\",1st,22,female,1\\r\\n\"Frolicher-Stehli, Mr Maxmillian\",1st,60,male,1\\r\\n\"Frolicher-Stehli, Mrs Maxmillian (Margaretha Emerentia Stehli)\",1st,48,female,1\\r\\n\"Futrelle, Mr Jacques\",1st,37,male,0\\r\\n\"Futrelle, Mrs Jacques (May Peel)\",1st,35,female,1\\r\\n\"Gee, Mr Arthur H\",1st,47,male,0\\r\\n\"Gibson, Miss Dorothy\",1st,22,female,1\\r\\n\"Gibson, Mrs Leord (Pauline C Boeson)\",1st,45,female,1\\r\\n\"Goldenberg, Mr Samuel L\",1st,49,male,1\\r\\n\"Goldenberg, Mrs Samuel L (Edwiga Grabowsko)\",1st,,female,1\\r\\n\"Goldschmidt, Mr George B\",1st,71,male,0\\r\\n\"Gracie, Colonel Archibald IV\",1st,54,male,1\\r\\n\"Graham, Mr George Edward\",1st,38,male,0\\r\\n\"Graham, Miss Margaret Edith\",1st,19,female,1\\r\\n\"Graham, Mrs William Thompson (Edith Junkins)\",1st,58,female,1\\r\\n\"Greenfield, Mrs Leo David (Blanche Strouse)\",1st,45,female,1\\r\\n\"Greenfield, Mr William Bertram\",1st,23,male,1\\r\\n\"Guggenheim, Mr Benjamin\",1st,46,male,0\\r\\n\"Harder, Mr George Achilles\",1st,25,male,1\\r\\n\"Harder, Mrs George Achilles (Dorothy Ann)\",1st,21,female,1\\r\\n\"Harper, Mr Henry Sleeper\",1st,48,male,1\\r\\n\"Harper, Mrs Henry Sleeper (My Haxtun)\",1st,49,female,1\\r\\n\"Harris, Mr Henry Birkhardt\",1st,45,male,0\\r\\n\"Harris, Mrs Henry Birkhardt (Irene Wallach)\",1st,36,female,1\\r\\n\"Hawksford, Mr Walter James\",1st,,male,1\\r\\n\"Hays, Mr Charles Melville\",1st,55,male,0\\r\\n\"Hays, Mrs Charles Melville (Clara Jennings Gregg)\",1st,52,female,1\\r\\n\"Hays, Miss Margaret Bechstein\",1st,24,female,1\\r\\n\"Head, Mr Christopher\",1st,,male,0\\r\\n\"Hilliard, Mr Herbert Henry\",1st,,male,0\\r\\n\"Hipkins, Mr William Edward\",1st,,male,0\\r\\n\"Hippach, Miss Jean Gertrude\",1st,16,female,1\\r\\n\"Hippach, Mrs Louis Albert (Ida Sophia Fischer)\",1st,44,female,1\\r\\n\"Hogeboom, Mrs John C (An Andrews)\",1st,51,female,1\\r\\n\"Holverson, Mr Alexander Oskar\",1st,42,male,0\\r\\n\"Holverson, Mrs Alexander Oskar (Mary Aline Towner)\",1st,35,female,1\\r\\n\"Homer, Mr Harry\",1st,35,male,1\\r\\n\"Hoyt, Mr Frederick Maxfield\",1st,38,male,1\\r\\n\"Hoyt, Mrs Frederick Maxfield (Jane Anne Forby)\",1st,35,female,1\\r\\n\"Hoyt, Mr William F\",1st,,male,0\\r\\n\"Isham, Miss Anne Elizabeth\",1st,50,female,0\\r\\n\"Ismay, Mr Joseph Bruce\",1st,49,male,1\\r\\n\"Jones, Mr Charles Cresson\",1st,46,male,0\\r\\n\"Julian, Mr Henry Forbes\",1st,,male,0\\r\\n\"Kent, Mr Edward Austin\",1st,58,male,0\\r\\n\"Kenyon, Mr Frederick R\",1st,41,male,0\\r\\n\"Kenyon, Mrs Frederick R (Marion)\",1st,,female,1\\r\\n\"Kimball, Mr Edwin Nelson Jr\",1st,42,male,1\\r\\n\"Kimball, Mrs Edwin Nelson Jr (Gertrude Parsons)\",1st,40,female,1\\r\\n\"Klaber, Mr Herman\",1st,,male,0\\r\\n\"Leader, Dr Alice Farnham\",1st,,female,1\\r\\n\"Lewy, Mr Ervin G\",1st,,male,0\\r\\n\"Lindeberg-Lind, Mr Erik Gustaf\",1st,42,male,0\\r\\n\"Lindstrom, Mrs Carl Johan (Sigrid Posse)\",1st,55,female,1\\r\\n\"Lines, Mrs Ernest H (Elizabeth Lindsey James)\",1st,50,female,1\\r\\n\"Lines, Miss Mary Conover\",1st,16,female,1\\r\\n\"Lingrey, Mr Edward\",1st,,male,0\\r\\n\"Long, Mr Milton Clyde\",1st,29,male,0\\r\\n\"Longley, Miss Gretchen Fiske\",1st,21,female,1\\r\\n\"Loring, Mr Joseph Holland\",1st,30,male,0\\r\\n\"Madill, Miss Georgette Alexandra\",1st,15,female,1\\r\\n\"Maguire, Mr John Edward\",1st,30,male,0\\r\\n\"Marechal, Mr Pierre\",1st,,male,1\\r\\n\"Marvin, Mr Daniel Warner\",1st,,male,0\\r\\n\"Marvin, Mrs Daniel Warner (Mary Graham Carmichael Farquarson)\",1st,,female,1\\r\\n\"McCaffry, Mr Thomas Francis\",1st,46,male,0\\r\\n\"McCarthy, Mr Timothy J\",1st,54,male,0\\r\\n\"McGough, Mr James R\",1st,36,male,1\\r\\n\"Meyer, Mr Edgar Joseph\",1st,28,male,0\\r\\n\"Meyer, Mrs Edgar Joseph (Leila Saks)\",1st,,female,1\\r\\n\"Millet, Mr Francis Davis\",1st,65,male,0\\r\\n\"Mihan, Miss Daisy E\",1st,33,female,1\\r\\n\"Mihan, Dr William Edward\",1st,44,male,0\\r\\n\"Mihan, Mrs William Edward (Lillian E Thorpe)\",1st,37,female,1\\r\\n\"Mock, Mr Philip E\",1st,,male,1\\r\\n\"Molson, Mr Harry Markland\",1st,55,male,0\\r\\n\"Moore, Mr Clarence Bloomfield\",1st,47,male,0\\r\\n\"tsch, Mr Charles H\",1st,36,male,0\\r\\n\"Newell, Mr Arthur Webster\",1st,58,male,0\\r\\n\"Newell, Miss Madeleine\",1st,31,female,1\\r\\n\"Newell, Miss Marjorie\",1st,23,female,1\\r\\n\"Newsom, Miss Helen Monypeny\",1st,19,female,1\\r\\n\"Nicholson, Mr Arthur Ernest\",1st,64,male,0\\r\\n\"Omont, Mr A Fernd\",1st,,male,1\\r\\n\"Ostby, Mr Engelhart Cornelius\",1st,64,male,0\\r\\n\"Ostby, Miss Helen Raghnild\",1st,22,female,1\\r\\n\"Ovies y Rodriguez, Mr Servando\",1st,28,male,0\\r\\n\"Parr, Mr William Henry Marsh\",1st,,male,0\\r\\n\"Partner, Mr Austin\",1st,,male,0\\r\\n\"Payne, Mr Vivian Ponsonby\",1st,22,male,0\\r\\n\"Pears, Mr Thomas\",1st,,male,0\\r\\n\"Pears, Mrs Thomas (Edith)\",1st,,female,1\\r\\n\"Pesco, Mr Victor de Satode\",1st,18,male,0\\r\\n\"Pesco, Mrs Victor de Satode (Josefa de Soto)\",1st,17,female,1\\r\\n\"Peuchen, Major Arthur Godfrey\",1st,52,male,1\\r\\n\"Porter, Mr Walter Chamberlain\",1st,46,male,0\\r\\n\"Potter, Mrs Thomas, Jr (Lily Alexenia Wilson)\",1st,56,female,1\\r\\n\"Reuchlin, Jonkheer John George\",1st,,male,0\\r\\n\"Rheims, Mr George Lucien\",1st,,male,1\\r\\n\"Robert, Mrs Edward Scott (Elisabeth Walton McMillan)\",1st,43,female,1\\r\\n\"Roebling, Mr Washington Augustus 2nd\",1st,31,male,0\\r\\n\"Romaine, Mr Charles Hallace\",1st,,male,1\\r\\n\"Rood, Mr Hugh R\",1st,,male,0\\r\\n\"Rosenbaum (Russell), Miss Edith Louise\",1st,33,female,1\\r\\n\"Ross, Mr John Hugo\",1st,,male,0\\r\\n\"Rothes, the Countess of (Noel Lucy Martha Dyer-Edwardes)\",1st,27,female,1\\r\\n\"Rothschild, Mr Martin\",1st,55,male,0\\r\\n\"Rothschild, Mrs Martin (Elizabeth L Barrett)\",1st,54,female,1\\r\\n\"Rowe, Mr Alfred G\",1st,,male,0\\r\\n\"Ryerson, Mr Arthur Larned\",1st,61,male,0\\r\\n\"Ryerson, Mrs Arthur Larned (Emily Maria Borie)\",1st,48,female,1\\r\\n\"Ryerson, Miss Emily Borie\",1st,18,female,1\\r\\n\"Ryerson, Master John Borie\",1st,13,male,1\\r\\n\"Ryerson, Miss Susan (Suzette) Parker\",1st,21,female,1\\r\\n\"Saalfeld, Mr Adolphe\",1st,,male,1\\r\\n\"Salomon, Mr Abraham L\",1st,,male,1\\r\\n\"Schabert, Mrs Paul (Emma Mock)\",1st,,female,1\\r\\n\"Seward, Mr Frederic Kimber\",1st,34,male,1\\r\\n\"Shutes, Miss Elizabeth W\",1st,40,female,1\\r\\n\"Silverthorne, Mr Spencer Victor\",1st,36,male,1\\r\\n\"Silvey, Mr William Baird\",1st,50,male,0\\r\\n\"Silvey, Mrs William Baird (Alice Munger)\",1st,39,female,1\\r\\n\"Simonius-Blumer, Col Alfons\",1st,56,male,1\\r\\n\"Sloper, Mr William Thompson\",1st,28,male,1\\r\\n\"Smart, Mr John Montgomery\",1st,56,male,0\\r\\n\"Smith, Mr James Clinch\",1st,56,male,0\\r\\n\"Smith, Mr Lucien Philip\",1st,24,male,0\\r\\n\"Smith, Mrs Lucien Philip (Mary Eloise Hughes\",1st,18,female,1\\r\\n\"Smith, Mr Richard William\",1st,,male,0\\r\\n\"Snyder, Mr John Pillsbury\",1st,24,male,1\\r\\n\"Snyder, Mrs John Pillsbury (Nelle Stevenson)\",1st,23,female,1\\r\\n\"Spedden, Mr Frederick Oakley\",1st,45,male,1\\r\\n\"Spedden, Mrs Frederick Oakley (Margaretta Corning Stone)\",1st,40,female,1\\r\\n\"Spedden, Master Robert Douglas\",1st,6,male,1\\r\\n\"Spencer, Mr William Augustus\",1st,57,male,0\\r\\n\"Spencer, Mrs William Augustus (Marie Eugenie)\",1st,,female,1\\r\\n\"Staehlin, Dr Max\",1st,32,male,1\\r\\n\"Stead, Mr William Thomas\",1st,62,male,0\\r\\n\"Stengel, Mr Charles Emil Henry\",1st,54,male,1\\r\\n\"Stengel, Mrs Charles Emil Henry (Annie May Morris)\",1st,43,female,1\\r\\n\"Stephenson, Mrs Walter Bertram (Martha Eustis)\",1st,52,female,1\\r\\n\"Stewart, Mr Albert A\",1st,,male,0\\r\\n\"Stone, Mrs George Nelson (Martha E)\",1st,62,female,1\\r\\n\"Straus, Mr Isidor\",1st,67,male,0\\r\\n\"Straus, Mrs Isidor (Ida Blun)\",1st,63,female,0\\r\\n\"Sutton, Mr Frederick\",1st,61,male,0\\r\\n\"Swift, Mrs Frederick Joel (Margaret Welles Barron)\",1st,46,female,1\\r\\n\"Taussig, Mr Emil\",1st,52,male,0\\r\\n\"Taussig, Mrs Emil (Tillie Mandelbaum)\",1st,39,female,1\\r\\n\"Taussig, Miss Ruth\",1st,18,female,1\\r\\n\"Taylor, Mr Elmer Zebley\",1st,48,male,1\\r\\n\"Taylor, Mrs Elmer Zebley (Juliet Cummins Wright)\",1st,,female,1\\r\\n\"Thayer, Mr John Borland\",1st,49,male,0\\r\\n\"Thayer, Mrs John Borland (Marian Longstreth Morris)\",1st,39,female,1\\r\\n\"Thayer, Mr John Borland, jr\",1st,17,male,1\\r\\n\"Thorne, Mr George (alias of: Mr George Rosenshine)\",1st,46,male,0\\r\\n\"Thorne, Mrs Gertrude Maybelle\",1st,,female,1\\r\\n\"Tucker, Mr Gilbert Milligan, jr\",1st,31,male,1\\r\\n\"Uruchurtu, Mr Manuel E\",1st,,male,0\\r\\n\"Van Derhoef, Mr Wyckoff\",1st,61,male,0\\r\\n\"Walker, Mr William Anderson\",1st,47,male,0\\r\\n\"Warren, Mr Frank Manley\",1st,64,male,0\\r\\n\"Warren, Mrs Frank Manley (An S Atkinson)\",1st,60,female,1\\r\\n\"Weir, Col John\",1st,60,male,0\\r\\n\"White, Mrs J Stuart (Ella Holmes)\",1st,55,female,1\\r\\n\"White, Mr Percival Wayland\",1st,54,male,0\\r\\n\"White, Mr Richard Frasar\",1st,21,male,0\\r\\n\"Wick, Mr George Dennick\",1st,57,male,0\\r\\n\"Wick, Mrs George Dennick (Martha Hitchcock)\",1st,45,female,1\\r\\n\"Wick, Miss Mary talie\",1st,31,female,1\\r\\n\"Widener, Mr George Dunton\",1st,50,male,0\\r\\n\"Widener, Mrs George Dunton (Eleanor Elkins)\",1st,50,female,1\\r\\n\"Widener, Mr Harry Elkins\",1st,27,male,0\\r\\n\"Willard, Miss Constance\",1st,20,female,1\\r\\n\"Williams, Mr Charles Duane\",1st,51,male,0\\r\\n\"Williams, Mr Fletcher Lambert\",1st,,male,0\\r\\n\"Williams, Mr Richard Norris II\",1st,21,male,1\\r\\n\"Woolner, Mr Hugh\",1st,,male,1\\r\\n\"Wright, Mr George\",1st,,male,0\\r\\n\"Young, Miss Marie Grice\",1st,36,female,1\\r\\n\"Barber, Ms \",1st,,female,1\\r\\n\"Bazzani, Ms Albi\",1st,,female,1\\r\\n\"Bidois, Miss Rosalie\",1st,,female,1\\r\\n\"Bird, Ms Ellen\",1st,,female,1\\r\\n\"Bissetti, Ms Amelia\",1st,,female,1\\r\\n\"Burns, Ms Elizabeth Margaret\",1st,,female,1\\r\\n\"Chaudanson, Ms         Victorine\",1st,,female,1\\r\\n\"Cleaver, Ms Alice\",1st,,female,1\\r\\n\"Daniels, Ms Sarah\",1st,,female,1\\r\\n\"Endres, Miss Caroline Louise\",1st,,female,1\\r\\n\"Farthing, Mr John\",1st,,male,0\\r\\n\"Fleming, Ms Margaret\",1st,,female,0\\r\\n\"Francatelli, Ms Laura Mabel\",1st,,female,1\\r\\n\"Fry, Mr Richard\",1st,,male,0\\r\\n\"Geiger, Miss Emily \",1st,,female,1\\r\\n\"Giglio, Mr Victor\",1st,,male,0\\r\\n\"Harrington, Mr Charles\",1st,,male,0\\r\\n\"Harrison, Mr William   Henry\",1st,40,male,0\\r\\n\"Hassah, Mr Hamad\",1st,,male,0\\r\\n\"Icabad (Icabod), Ms\",1st,,female,1\\r\\n\"Keeping, Mr Edwin\",1st,32,male,0\\r\\n\"Kenchen, Ms Amelia\",1st,,female,1\\r\\n\"LeRoy, Miss Berthe\",1st,,female,1\\r\\n\"Lesneur, Mr Gustave\",1st,,male,0\\r\\n\"Maloney, Ms\",1st,,female,1\\r\\n\"Oliva, Mlle\",1st,,female,0\\r\\n\"Pericault, Ms\",1st,,female,1\\r\\n\"Ringhini, Mr Sante\",1st,33,male,0\\r\\n\"Robbins, Mr Victor\",1st,,male,0\\r\\n\"Segesser, Mlle Emma\",1st,,female,1\\r\\n\"Seredeca, Ms\",1st,,female,0\\r\\n\"Ward, Ms An\",1st,,female,0\\r\\n\"Wilson, Ms Helen\",1st,,female,1\\r\\n\"Abelson, Mr Samuel\",2nd,30,male,0\\r\\n\"Abelson, Mrs Samuel (An)\",2nd,28,female,1\\r\\n\"Andrew, Mr Edgar Samuel\",2nd,18,male,0\\r\\n\"Andrew, Mr Frank\",2nd,,male,0\\r\\n\"Angle, Mr William A\",2nd,34,male,0\\r\\n\"Angle, Mrs William A (Florence)\",2nd,32,female,1\\r\\n\"Ashby, Mr John\",2nd,57,male,0\\r\\n\"Bailey, Mr Percy Andrew\",2nd,18,male,0\\r\\n\"Baimbrigge, Mr Charles R\",2nd,23,male,0\\r\\n\"Balls, Mrs Ada E Hall\",2nd,36,female,1\\r\\n\"Banfield, Mr Frederick J\",2nd,28,male,0\\r\\n\"Bateman, Rev Robert James\",2nd,51,male,0\\r\\n\"Beane, Mr Edward\",2nd,32,male,1\\r\\n\"Beane, Mrs Edward (Ethel Clarke)\",2nd,19,female,1\\r\\n\"Beauchamp, Mr Henry James\",2nd,28,male,0\\r\\n\"Becker, Mrs Allen Oliver (Nellie E Baumgardner)\",2nd,36,female,1\\r\\n\"Becker, Miss Marion Louise\",2nd,4,female,1\\r\\n\"Becker, Master Richard F\",2nd,1,male,1\\r\\n\"Becker, Miss Ruth Elizabeth\",2nd,12,female,1\\r\\n\"Beesley, Mr Lawrence\",2nd,34,male,1\\r\\n\"Bentham, Miss Lilian W\",2nd,19,female,1\\r\\n\"Berriman, Mr William S\",2nd,23,male,0\\r\\n\"Botsford, Mr William Hull\",2nd,26,male,0\\r\\n\"Bowenur, Mr Solomon\",2nd,,male,0\\r\\n\"Bracken, Mr James H\",2nd,27,male,0\\r\\n\"Brown, Miss Edith E\",2nd,15,female,1\\r\\n\"Brown, Mr Thomas William Solomon\",2nd,45,male,0\\r\\n\"Brown, Mrs Thomas William Solomon (Elizabeth C)\",2nd,40,female,1\\r\\n\"Bryhl, Miss Dagmar\",2nd,20,female,1\\r\\n\"Bryhl, Mr Kurt Arnold Gottfrid\",2nd,25,male,0\\r\\n\"Buss, Miss Kate\",2nd,36,female,1\\r\\n\"Butler, Mr Regild Fenton\",2nd,25,male,0\\r\\n\"Byles, Rev Thomas Roussel D\",2nd,,male,0\\r\\n\"Bystrom, Mrs Caroli\",2nd,42,female,1\\r\\n\"Caldwell, Mr Albert Francis\",2nd,26,male,1\\r\\n\"Caldwell, Mrs Albert Francis (Sylvia Mae Harbaugh)\",2nd,26,female,1\\r\\n\"Caldwell, Master Alden Gates\",2nd,0.83,male,1\\r\\n\"Cameron, Miss Clear\",2nd,31,female,1\\r\\n\"Campbell, Mr William\",2nd,,male,0\\r\\n\"Carbines, Mr William\",2nd,19,male,0\\r\\n\"Carter, Rev Ernest Courtey\",2nd,54,male,0\\r\\n\"Carter, Mrs Ernest Courtey (Lillian Hughes)\",2nd,44,female,0\\r\\n\"Chapman, Mr Charles Henry\",2nd,52,male,0\\r\\n\"Chapman, Mr John Henry\",2nd,30,male,0\\r\\n\"Chapman, Mrs John Henry (Elizabeth Lawry)\",2nd,30,female,0\\r\\n\"Christy, Mrs Alice Frances\",2nd,,female,1\\r\\n\"Christy, Miss Julie\",2nd,,female,1\\r\\n\"Clarke, Mr Charles V\",2nd,29,male,0\\r\\n\"Clarke, Mrs Charles V (Ada Maria)\",2nd,,female,1\\r\\n\"Coleridge, Mr Regild Charles\",2nd,29,male,0\\r\\n\"Collander, Mr Erik\",2nd,27,male,0\\r\\n\"Collett, Mr Sidney C Stuart\",2nd,24,male,1\\r\\n\"Collyer, Mr Harvey\",2nd,35,male,0\\r\\n\"Collyer, Mrs Harvey (Charlotte Tate)\",2nd,31,female,1\\r\\n\"Collyer, Miss Marjorie\",2nd,8,female,1\\r\\n\"Cook, Mrs Sele Rogers\",2nd,22,female,0\\r\\n\"Corbett, Mrs Walter H (Irene Colvin)\",2nd,30,female,0\\r\\n\"Corey, Mrs Percy C (Mary Phyllis Elizabeth Miller)\",2nd,,female,0\\r\\n\"Cotterill, Mr Harry\",2nd,20,male,0\\r\\n\"Cunningham, Mr Alfred Fleming\",2nd,,male,0\\r\\n\"Davies, Mr Charles Henry\",2nd,21,male,0\\r\\n\"Davis, Mrs Agnes\",2nd,49,female,1\\r\\n\"Davis, Master John Morgan\",2nd,8,male,1\\r\\n\"Davis, Miss Mary\",2nd,28,female,1\\r\\n\"Deacon, Mr Percy\",2nd,18,male,0\\r\\n\"de Brito, Mr Jose Joaquim\",2nd,,male,0\\r\\n\"del Carlo, Mr Sebastiano\",2nd,28,male,0\\r\\n\"del Carlo, Mrs Sebastiano (Argenia Genovese)\",2nd,22,female,1\\r\\n\"Denbury, Mr Herbert\",2nd,25,male,0\\r\\n\"Dibden, Mr William\",2nd,18,male,0\\r\\n\"Doling, Mrs Ada\",2nd,32,female,1\\r\\n\"Doling, Miss Elsie\",2nd,18,female,1\\r\\n\"Downton (?Douton), Mr William James\",2nd,,male,0\\r\\n\"Drew, Mr James Vivian\",2nd,42,male,0\\r\\n\"Drew, Mrs James Vivian (Lulu Thorne Christian)\",2nd,34,female,1\\r\\n\"Drew, Master Marshall Brines\",2nd,8,male,1\\r\\n\"Duran y More, Miss Asuncion\",2nd,,female,1\\r\\n\"Duran y More, Miss Florenti\",2nd,,female,1\\r\\n\"Eitemiller, Mr George Floyd\",2nd,23,male,0\\r\\n\"Ender, Mr Ingvar\",2nd,21,male,0\\r\\n\"Fahlstrom, Mr Arne Jos\",2nd,19,male,0\\r\\n\"Faunthorpe, Mr Harry\",2nd,,male,0\\r\\n\"Faunthorpe, Mrs Lizzie (see Wilkinson, E)\",2nd,,female,1\\r\\n\"Fillbrook, Mr Charles\",2nd,,male,0\\r\\n\"Fox, Mr Stanley H\",2nd,38,male,0\\r\\n\"Frost, Mr Anthony (Archie) W\",2nd,,male,0\\r\\n\"Funk, Miss Annie C\",2nd,38,female,0\\r\\n\"Fynney, Mr Joseph J\",2nd,35,male,0\\r\\n\"Gale, Mr Harry\",2nd,35,male,0\\r\\n\"Gale, Mr Shadrach\",2nd,38,male,0\\r\\n\"Garside, Miss Ethel\",2nd,24,female,1\\r\\n\"Gaskell, Mr Alfred\",2nd,16,male,0\\r\\n\"Gavey, Mr Lawrence\",2nd,26,male,0\\r\\n\"Gilbert, Mr William\",2nd,45,male,0\\r\\n\"Giles, Mr Edgar\",2nd,24,male,0\\r\\n\"Giles, Mr Frederick\",2nd,21,male,0\\r\\n\"Giles, Mr Ralph\",2nd,22,male,0\\r\\n\"Gill, Mr John W\",2nd,,male,0\\r\\n\"Gillespie, Mr William\",2nd,34,male,0\\r\\n\"Givard, Mr Hans Christensen\",2nd,30,male,0\\r\\n\"Greenberg, Mr Samuel\",2nd,50,male,0\\r\\n\"Hale, Mr Regild\",2nd,30,male,0\\r\\n\"Hamalainen, Mrs William (An)\",2nd,23,female,1\\r\\n\"Hamalainen, Master Viljo\",2nd,1,male,1\\r\\n\"Harbeck, Mr William H\",2nd,44,male,0\\r\\n\"Harper, Rev John\",2nd,28,male,0\\r\\n\"Harper, Miss Ni\",2nd,6,female,1\\r\\n\"Harris, Mr George\",2nd,30,male,1\\r\\n\"Harris, Mr Walter\",2nd,,male,0\\r\\n\"Hart, Mr Benjamin\",2nd,43,male,0\\r\\n\"Hart, Mrs Benjamin (Esther)\",2nd,45,female,1\\r\\n\"Hart, Miss Eva Miriam\",2nd,7,female,1\\r\\n\"Herman, Miss Alice\",2nd,24,female,1\\r\\n\"Herman, Miss Kate\",2nd,24,female,1\\r\\n\"Herman, Mr Samuel\",2nd,49,male,0\\r\\n\"Herman, Mrs Samuel (Jane Laver)\",2nd,48,female,1\\r\\n\"Hewlett, Mrs Mary D\",2nd,,female,1\\r\\n\"Hickman, Mr Leord Mark\",2nd,34,male,0\\r\\n\"Hickman, Mr Lewis\",2nd,32,male,0\\r\\n\"Hickman, Mr Stanley George\",2nd,21,male,0\\r\\n\"Hiltunen, Miss Marta\",2nd,18,female,0\\r\\n\"Hocking, Mrs Elizabeth\",2nd,53,female,1\\r\\n\"Hocking, Mr George\",2nd,23,male,0\\r\\n\"Hocking, Miss Ellen (Nellie)\",2nd,21,female,1\\r\\n\"Hocking, Mr Samuel James\",2nd,,male,0\\r\\n\"Hodges, Mr Henry Price\",2nd,52,male,0\\r\\n\"Hold, Mr Stephen\",2nd,42,male,0\\r\\n\"Hold, Mrs Stephen (Annie Margaret)\",2nd,36,female,1\\r\\n\"Hood, Mr Ambrose, Jr\",2nd,21,male,0\\r\\n\"Hosono, Mr Masafumi\",2nd,41,male,1\\r\\n\"Howard, Mr Benjamin\",2nd,,male,0\\r\\n\"Howard, Mrs Benjamin (Ellen Truelove)\",2nd,,female,0\\r\\n\"Hunt, Mr George Henry\",2nd,33,male,0\\r\\n\"Ilett, Miss Bertha\",2nd,17,female,1\\r\\nJacobsohn Mr Samuel,,,male,0\\r\\n\"Jacobsohn, Mrs Sidney Samuel (Amy Frances Christy)\",2nd,,female,1\\r\\n\"Jarvis, Mr John Denzil\",2nd,,male,0\\r\\n\"Jefferys, Mr Clifford\",2nd,,male,0\\r\\n\"Jefferys, Mr Ernest\",2nd,,male,0\\r\\n\"Jenkin, Mr Stephen Curnow\",2nd,,male,0\\r\\n\"Jerwan, Mrs Amin S (Marie Thuillard)\",2nd,23,female,1\\r\\n\"Kantor, Mr Sii\",2nd,34,male,0\\r\\n\"Kantor, Mrs Sii (Miriam Sternim)\",2nd,,female,1\\r\\n\"Karnes, Mrs J Frank (Claire Bennett)\",2nd,22,female,0\\r\\n\"Keane, Mr Daniel\",2nd,,male,0\\r\\n\"Keane, Miss Nora A\",2nd,,female,1\\r\\n\"Kelly, Mrs Florence (Fannie)\",2nd,45,female,1\\r\\n\"Kirkland, Rev Charles Leord\",2nd,,male,0\\r\\n\"Knight, Mr Robert\",2nd,,male,0\\r\\n\"Kvillner, Mr Johan Henrik Johannesson\",2nd,31,male,0\\r\\n\"Lahtinen, Rev William\",2nd,30,male,0\\r\\n\"Lahtinen, Mrs William (An Sylvan)\",2nd,26,female,0\\r\\n\"Lamb, Mr John James\",2nd,,male,0\\r\\n\"Lemore, Mrs Amelia\",2nd,34,female,1\\r\\n\"LaRoche, Mr Joseph\",2nd,26,male,0\\r\\n\"LaRoche, Mrs Joseph (Juliet)\",2nd,22,female,1\\r\\n\"LaRoche, Miss Louise\",2nd,1,female,1\\r\\n\"LaRoche, Miss Simonne\",2nd,3,female,1\\r\\n\"Lehmann, Miss Bertha\",2nd,,female,1\\r\\n\"Leitch, Miss Jessie\",2nd,,female,1\\r\\n\"Levy, Mr Rene Jacques\",2nd,,male,0\\r\\n\"Leyson, Mr Robert William Norman\",2nd,25,male,0\\r\\n\"Lingan, Mr John\",2nd,,male,0\\r\\n\"Louch, Mr Charles Alexander\",2nd,48,male,0\\r\\n\"Louch, Mrs Charles Alexander (Alice Adelaide)\",2nd,,female,1\\r\\n\"Mack, Mrs Mary\",2nd,57,female,0\\r\\n\"Malachard, Mr Noel\",2nd,,male,0\\r\\n\"Mallet, Mr Albert\",2nd,,male,0\\r\\n\"Mallet, Mrs Albert (Antoinette)\",2nd,,female,1\\r\\n\"Mallet, Master Andre\",2nd,2,male,1\\r\\n\"Mangiavacchi, Mr Serafino Emilio\",2nd,,male,0\\r\\n\"Mantvila, Rev Joseph\",2nd,27,male,0\\r\\n\"Marshall, Mrs Kate Louise Phillips\",2nd,19,female,1\\r\\n\"Matthews, Mr William John\",2nd,30,male,0\\r\\n\"Maybery, Mr Frank H\",2nd,20,male,0\\r\\n\"McCrae, Mr Arthur Gordon\",2nd,45,male,0\\r\\n\"McCrie, Mr James Matthew\",2nd,,male,0\\r\\n\"McKane, Mr Peter D\",2nd,46,male,0\\r\\n\"Mellenger, Mrs Elizabeth Anne\",2nd,41,female,1\\r\\n\"Mellenger, Miss Madeleine Violet\",2nd,13,female,1\\r\\n\"Mellor, Mr William John\",2nd,19,male,1\\r\\n\"Meyer, Mr August\",2nd,30,male,0\\r\\n\"Milling, Mr Jacob Christian\",2nd,48,male,0\\r\\n\"Mitchell, Mr Henry Michael\",2nd,71,male,0\\r\\n\"Moraweck, Dr Ernest\",2nd,54,male,0\\r\\n\"Morley, Mr William\",2nd,,male,0\\r\\n\"Mudd, Mr Thomas C\",2nd,,male,0\\r\\n\"Myles, Mr Thomas Francis\",2nd,64,male,0\\r\\n\"sser (srallah), Mr Nicholas\",2nd,32,male,0\\r\\n\"sser (srallah), Mrs Nicholas\",2nd,18,female,1\\r\\n\"vratil, Master Edmond Roger\",2nd,2,male,1\\r\\n\"vratil, Mr Michel\",2nd,32,male,0\\r\\n\"vratil, Master Michel M\",2nd,3,male,1\\r\\n\"Nesson, Mr Israel\",2nd,26,male,0\\r\\n\"Nicholls, Mr Joseph Charles\",2nd,19,male,0\\r\\n\"Norman, Mr Robert Douglas\",2nd,,male,0\\r\\n\"Nourney, Mr Alfred (aka Baron von Drachstedt)\",2nd,20,male,1\\r\\n\"Nye, Mrs Elizabeth Ramell\",2nd,29,female,1\\r\\n\"Otter, Mr Richard\",2nd,39,male,0\\r\\n\"Oxenham, Mr Percy Thomas\",2nd,22,male,1\\r\\n\"Padro y Manent, Mr Julian\",2nd,,male,1\\r\\n\"Pain, Dr Alfred\",2nd,24,male,0\\r\\n\"Pallas y Castello, Mr Emilio\",2nd,,male,1\\r\\n\"Parker, Mr Clifford R\",2nd,28,male,0\\r\\n\"Parkes, Mr Francis (Frank)\",2nd,,male,0\\r\\n\"Parrish, Mrs Lutie Davis\",2nd,50,female,1\\r\\n\"Pengelly, Mr Frederick\",2nd,20,male,0\\r\\n\"Peruschitz, Rev Joseph M\",2nd,40,male,0\\r\\n\"Phillips, Miss Alice\",2nd,42,female,1\\r\\n\"Phillips, Mr Robert\",2nd,21,male,0\\r\\n\"Pinsky, Miss Rosa\",2nd,32,female,1\\r\\n\"Ponesell, Mr Martin\",2nd,34,male,0\\r\\n\"Portaluppi, Mr Emilio\",2nd,,male,1\\r\\n\"Pulbaum, Mr Frank\",2nd,,male,0\\r\\n\"Quick, Mrs Frederick C (Jane Richards)\",2nd,33,female,1\\r\\n\"Quick, Miss Phyllis May\",2nd,2,female,1\\r\\n\"Quick, Miss Winifred Vera\",2nd,8,female,1\\r\\n\"Reeves, Mr David\",2nd,36,male,0\\r\\n\"Renouf, Mr Peter Henry\",2nd,34,male,0\\r\\n\"Renouf, Mrs Peter Henry (Lillian Jefferys)\",2nd,30,female,1\\r\\n\"Reyldo, Mrs Encarcion\",2nd,28,female,1\\r\\n\"Richard, Mr Emil\",2nd,23,male,0\\r\\n\"Richards, Master George Sidney\",2nd,0.8,male,1\\r\\n\"Richards, Mrs Sidney (Emily Hocking)\",2nd,25,female,1\\r\\n\"Richards, Master William Rowe\",2nd,3,male,1\\r\\n\"Ridsdale, Miss Lucy\",2nd,50,female,1\\r\\n\"Rogers, Mr Harry\",2nd,,male,0\\r\\n\"Rugg, Miss Emily\",2nd,21,female,1\\r\\n\"Sedgwick, Mr Charles Frederick Waddington\",2nd,,male,0\\r\\n\"Sharp, Mr Percival\",2nd,,male,0\\r\\n\"Shelley, Mrs William (Imanita)\",2nd,25,female,1\\r\\n\"Silven, Miss Lyyli\",2nd,18,female,1\\r\\n\"Sincock, Miss Maude\",2nd,20,female,1\\r\\n\"Siukonnen, Miss An\",2nd,30,female,1\\r\\n\"Sjostedt, Mr Ernst Adolf\",2nd,59,male,0\\r\\n\"Slayter, Miss Hilda Mary\",2nd,30,female,1\\r\\n\"Slemen, Mr Richard James\",2nd,35,male,0\\r\\n\"Smith (Schmidt), Mr Augustus\",2nd,22,male,0\\r\\n\"Smith, Miss Marion\",2nd,,female,1\\r\\n\"Sobey, Mr Hayden\",2nd,25,male,0\\r\\n\"Stanton, Mr Samuel Ward\",2nd,41,male,0\\r\\n\"Stokes, Mr Philip Joseph\",2nd,25,male,0\\r\\n\"Sweet, Mr George\",2nd,14,male,0\\r\\n\"Toomey, Miss Ellen\",2nd,50,female,1\\r\\n\"Troupiansky, Mr Moses Aaron\",2nd,22,male,0\\r\\n\"Trout, Mrs William H (Jessie L)\",2nd,,female,1\\r\\n\"Troutt, Miss Edwi Celia\",2nd,27,female,1\\r\\n\"Turpin, Mr William John\",2nd,29,male,0\\r\\n\"Turpin, Mrs William John (Dorothy Anne Woncott)\",2nd,27,female,0\\r\\n\"Veale, Mr James\",2nd,30,male,0\\r\\n\"Waelens, Mr Achille\",2nd,22,male,0\\r\\n\"Walcroft, Miss Nellie\",2nd,35,female,1\\r\\n\"Ware, Mr John James\",2nd,30,male,0\\r\\n\"Ware, Mrs John James (Florence Louise Long)\",2nd,28,female,1\\r\\n\"Ware, Mr William J\",2nd,23,male,0\\r\\n\"Watson, Mr Ennis Hastings\",2nd,,male,0\\r\\n\"Watt, Miss Bertha\",2nd,12,female,1\\r\\n\"Watt, Mrs James (Bessie Inglis Milne)\",2nd,40,female,1\\r\\n\"Webber, Miss Susan\",2nd,36,female,1\\r\\n\"Weisz, Mr Leopold\",2nd,28,male,0\\r\\n\"Weisz, Mrs Leopold (Mathilde)\",2nd,32,female,1\\r\\n\"Wells, Mrs Arthur H (Addie Trevaskis)\",2nd,29,female,1\\r\\n\"Wells, Miss Joan\",2nd,4,female,1\\r\\n\"Wells, Master Ralph Lester\",2nd,2,male,1\\r\\n\"West, Miss Barbara J\",2nd,,female,1\\r\\n\"West, Miss Constance Mirium\",2nd,,female,1\\r\\n\"West, Mr Edwy Arthur\",2nd,36,male,0\\r\\n\"West, Mrs Edwy Arthur (Ada Mary)\",2nd,33,female,1\\r\\n\"Wheadon, Mr Edward\",2nd,,male,0\\r\\n\"Wheeler, Mr Edwin\",2nd,,male,0\\r\\n\"Wheeler, Mr Frederick\",2nd,,male,0\\r\\n\"Wilhelms, Mr Charles\",2nd,32,male,1\\r\\n\"Wilkinson, Mrs Elizabeth Anne\",2nd,,female,1\\r\\n\"Williams, Mr Charles Eugene\",2nd,,male,1\\r\\n\"Wright, Miss Marion\",2nd,26,female,1\\r\\n\"Yrois, Miss Henriette\",2nd,,female,0\\r\\n\"Aldworth, Mr Charles Augustus\",2nd,30,male,0\\r\\n\"Brown, Miss Mildred\",2nd,24,female,1\\r\\n\"Pernot, Mr Rene\",2nd,,male,0\\r\\n\"Swane, Mr George\",2nd,18,male,0\\r\\n\"Abbing, Mr Anthony\",3rd,42,male,0\\r\\n\"Abbott, Master Eugene Joseph\",3rd,13,male,0\\r\\n\"Abbott, Mr Rossmore Edward\",3rd,16,male,0\\r\\n\"Abbott, Mrs Stanton (Rosa)\",3rd,35,female,1\\r\\n\"Abelseth, Miss An Karen\",3rd,16,female,1\\r\\n\"Abelseth, Mr Olaus\",3rd,25,male,1\\r\\n\"Abraham, Mrs Joseph (Sophie Easu)\",3rd,18,female,1\\r\\n\"Abrahamsson, Mr August\",3rd,20,male,1\\r\\n\"Adahl, Mr Mauritz Nils Martin\",3rd,30,male,0\\r\\n\"Adams, Mr John\",3rd,26,male,0\\r\\n\"Ahlin, Mrs Johan Persdotter\",3rd,40,female,0\\r\\n\"Ahmed, Mr Ali\",3rd,24,male,0\\r\\n\"Aijo-Nirva, Mr Isak\",3rd,41,male,0\\r\\n\"Aks, Mrs Sam (Leah Rosen)\",3rd,18,female,1\\r\\n\"Aks, Master Philip\",3rd,0.83,male,1\\r\\n\"Alexander, Mr William\",3rd,23,male,0\\r\\n\"Alhomaki, Mr Ilmari Rudolf\",3rd,20,male,0\\r\\n\"Ali, Mr William\",3rd,25,male,0\\r\\n\"Allen, Mr William Henry\",3rd,35,male,0\\r\\n\"Allum, Mr Owen George\",3rd,17,male,0\\r\\n\"Andersen, Mr Albert Karvin\",3rd,32,male,0\\r\\n\"Andersen, Mr Thor Olsvigen\",3rd,20,male,0\\r\\n\"Andersson, Mr Anders Johan\",3rd,39,male,0\\r\\n\"Andersson, Mrs Anders Johan (Alfrida K Brogren)\",3rd,39,female,0\\r\\n\"Andersson, Miss Ebba Iris\",3rd,6,female,0\\r\\n\"Andersson, Miss Ellis An Maria\",3rd,2,female,0\\r\\n\"Andersson, Miss Er\",3rd,17,female,1\\r\\n\"Andersson, Miss Ida Augusta Margareta\",3rd,38,female,0\\r\\n\"Andersson, Miss Ingeborg Constancia\",3rd,9,female,0\\r\\n\"Andersson, Mr Johan Samuel\",3rd,26,male,0\\r\\n\"Andersson, Miss Sigrid Elizabeth\",3rd,11,female,0\\r\\n\"Andersson, Master Sigvard Harald Elias\",3rd,4,male,0\\r\\n\"Andreasson, Mr Paul Edvin\",3rd,20,male,0\\r\\n\"Angheloff, Mr Minko\",3rd,26,male,0\\r\\n\"Arnold, Mr Josef\",3rd,25,male,0\\r\\n\"Arnold, Mrs Josef (Josephine Frank)\",3rd,18,female,0\\r\\n\"Aronsson, Mr Ernst Axel Algot\",3rd,24,male,0\\r\\n\"Asim, Mr Adola\",3rd,35,male,0\\r\\n\"Asplund, Mr Carl Oscar Vilhelm Gustafsson\",3rd,40,male,0\\r\\n\"Asplund, Mrs Carl Oscar (Selma Augusta Johansson)\",3rd,38,female,1\\r\\n\"Asplund, Master Carl Edgar\",3rd,5,male,0\\r\\n\"Asplund, Master Clarence Gustaf Hugo\",3rd,9,male,0\\r\\n\"Aspland, Master Edvin Rojj Felix\",3rd,3,male,1\\r\\n\"Asplund, Master Filip Oscar\",3rd,13,male,0\\r\\n\"Asplund, Mr John Charles\",3rd,23,male,1\\r\\n\"Asplund, Miss Lillian Gertrud\",3rd,5,female,1\\r\\n\"Assaf, Mr Gerios\",3rd,,male,0\\r\\n\"Assaf, Mrs Maria\",3rd,45,female,1\\r\\n\"Assam, Mr Ali\",3rd,23,male,0\\r\\n\"Attalah, Miss Malaka\",3rd,17,female,0\\r\\n\"Attala (Kalil), Mr Solomon\",3rd,27,male,0\\r\\n\"Augustsson, Mr Albert\",3rd,23,male,0\\r\\n\"Baccos, Mr Rafoul\",3rd,20,male,0\\r\\n\"Backstrom, Mr Karl Alfred\",3rd,32,male,0\\r\\n\"Backstrom, Mrs Karl Alfred (Maria Mathilda Gustafsson)\",3rd,33,female,1\\r\\n\"Baclini, Miss Eugenie\",3rd,3,female,1\\r\\n\"Baclini, Miss Helene\",3rd,,female,1\\r\\n\"Baclini, Miss Maria\",3rd,,female,1\\r\\n\"Baclini, Mrs Solomon (Latifa)\",3rd,,female,1\\r\\n\"Badman, Miss Emily Louisa\",3rd,18,female,1\\r\\n\"Badt, Mr Mohamed\",3rd,40,male,0\\r\\n\"Balkic, Mr Cerin\",3rd,26,male,0\\r\\n\"Banoura, Miss Ayout\",3rd,15,female,1\\r\\n\"Barbara, Mrs Catherine\",3rd,45,female,0\\r\\n\"Barbara, Miss Saude\",3rd,18,female,0\\r\\n\"Barry, Miss Julia\",3rd,27,female,0\\r\\n\"Barton, Mr David\",3rd,22,male,0\\r\\n\"Beavan, Mr William Thomas\",3rd,19,male,0\\r\\n\"Bengtsson, Mr John Viktor\",3rd,26,male,0\\r\\n\"Berglund, Mr Karl Ivar Sven\",3rd,22,male,0\\r\\n\"Betros, Mr Tannous\",3rd,20,male,0\\r\\n\"Bing, Mr Lee\",3rd,32,male,1\\r\\n\"Birkeland, Mr Hans\",3rd,21,male,0\\r\\n\"Bjorklund, Ernst Herbert\",3rd,18,male,0\\r\\n\"Bostandyeff, Mr Guentcho\",3rd,26,male,0\\r\\n\"Boulos, Master Akar\",3rd,6,male,0\\r\\n\"Boulos, Mr Han\",3rd,,male,0\\r\\n\"Boulos, Mrs Joseph (Sulta)\",3rd,,female,0\\r\\n\"Boulos, Miss Laura\",3rd,9,female,0\\r\\n\"Bourke, Mr John\",3rd,40,male,0\\r\\n\"Bourke, Mrs John (Catherine)\",3rd,32,female,0\\r\\n\"Bourke, Miss Mary\",3rd,,female,0\\r\\n\"Bowen, Mr David\",3rd,26,male,0\\r\\n\"Bradley, Miss Bridget Delia\",3rd,18,female,1\\r\\n\"Braf, Miss Elin Ester Maria\",3rd,20,female,0\\r\\n\"Brahim, Mr Youssef\",3rd,,male,0\\r\\n\"Braund, Mr Lewis Richard\",3rd,29,male,0\\r\\n\"Braund, Mr Owen Harris\",3rd,22,male,0\\r\\n\"Brobek, Mr Karl Rudolf\",3rd,22,male,0\\r\\n\"Brocklebank, Mr William Alfred\",3rd,35,male,0\\r\\n\"Buckley, Mr Daniel\",3rd,21,male,1\\r\\n\"Buckley, Miss Katherine\",3rd,20,female,0\\r\\n\"Burke, Mr Jeremiah\",3rd,19,male,0\\r\\n\"Burns, Miss Mary Delia\",3rd,18,female,0\\r\\n\"Cacic, Mr Grego\",3rd,18,male,0\\r\\n\"Cacic, Mr Luka\",3rd,38,male,0\\r\\n\"Cacic, Mr Manda\",3rd,,male,0\\r\\n\"Cacic, Mr Maria\",3rd,30,male,0\\r\\n\"Calic, Mr Peter\",3rd,17,male,0\\r\\n\"Cavan, Miss Mary\",3rd,21,female,0\\r\\n\"Cavan, Mr Patrick\",3rd,21,male,0\\r\\n\"Cann, Mr Ernest\",3rd,21,male,0\\r\\n\"Caram (Kareem), Mr Joseph\",3rd,,male,0\\r\\n\"Caram (Kareem), Mrs Joseph (Maria Elias)\",3rd,,female,0\\r\\n\"Carlsson, Mr Carl Robert\",3rd,24,male,0\\r\\n\"Carlsson, Mr Frans Olof\",3rd,33,male,0\\r\\n\"Carlsson, Mr Julius\",3rd,33,male,0\\r\\n\"Carlsson, Mr August Sigfrid\",3rd,28,male,0\\r\\n\"Carr, Miss Helen\",3rd,16,female,1\\r\\n\"Carr, Miss Jeannie\",3rd,37,female,0\\r\\n\"Carver, Mr Alfred John\",3rd,28,male,0\\r\\n\"Cassem, Mr ssef Belmenly\",3rd,,male,1\\r\\n\"Celotti, Mr Francesco\",3rd,24,male,0\\r\\n\"Chartens, Mr David\",3rd,21,male,0\\r\\n\"Chebab, Mr Emir Farres\",3rd,,male,0\\r\\n\"Chip, Mr Chang\",3rd,32,male,0\\r\\n\"Christmann, Mr Emil\",3rd,29,male,0\\r\\n\"Chronopoulos, Mr Apostolos\",3rd,26,male,0\\r\\n\"Chronopoulos, Mr Demetrios\",3rd,18,male,0\\r\\n\"Coelho, Mr Domingos Ferndes\",3rd,20,male,0\\r\\n\"Cohen, Mr Gurshon (Gus)\",3rd,19,male,1\\r\\n\"Colbert, Mr Patrick\",3rd,24,male,0\\r\\n\"Coleff, Mr Fotio\",3rd,24,male,0\\r\\n\"Coleff, Mr Peyo\",3rd,36,male,0\\r\\n\"Conlin, Mr Thomas Henry\",3rd,31,male,0\\r\\n\"Conghton, Mr Michael\",3rd,31,male,0\\r\\n\"Connolly, Miss Kate\",3rd,30,female,0\\r\\n\"Connolly, Miss Kate\",3rd,22,female,1\\r\\n\"Connors, Mr Patrick\",3rd,,male,0\\r\\n\"Cook, Mr Jacob\",3rd,43,male,0\\r\\n\"Cor, Mr Bartol\",3rd,35,male,0\\r\\n\"Cor, Mr Ivan\",3rd,27,male,0\\r\\n\"Cor, Mr Ludovik\",3rd,19,male,0\\r\\n\"Corn, Mr Harry\",3rd,30,male,0\\r\\n\"Coutts, Mrs William (Minnie)\",3rd,36,female,1\\r\\n\"Coutts, Master Neville\",3rd,3,male,1\\r\\n\"Coutts, Master William Leslie\",3rd,9,male,1\\r\\n\"Coxon, Mr Daniel\",3rd,59,male,0\\r\\n\"Crease, Mr Ernest James\",3rd,19,male,0\\r\\n\"Cribb, Mr John Hatfield\",3rd,44,male,0\\r\\n\"Cribb, Miss Laura Alice\",3rd,17,female,1\\r\\n\"Daher, Mr Tannous\",3rd,,male,0\\r\\n\"Dahl, Mr Charles Edward\",3rd,45,male,1\\r\\n\"Dahlberg, Miss Gerda Ulrika\",3rd,22,female,0\\r\\n\"Dakic, Mr Branko\",3rd,19,male,0\\r\\n\"Daly, Mr Eugene\",3rd,29,male,1\\r\\n\"Daly, Miss Marcella\",3rd,30,female,1\\r\\n\"Danbom, Mr Ernst Gilbert\",3rd,34,male,0\\r\\n\"Danbom, Mrs Ernst Gilbert (An Sigrid Maria Brogren)\",3rd,28,female,0\\r\\n\"Danbom, Master Gilbert Sigvard Emanuel\",3rd,0.33,male,0\\r\\n\"Danoff, Mr Yoto\",3rd,27,male,0\\r\\n\"Dantchoff, Mr Khristo\",3rd,25,male,0\\r\\n\"Davies, Mr Alfred\",3rd,24,male,0\\r\\n\"Davies, Mr Evan\",3rd,22,male,0\\r\\n\"Davies, Mr John\",3rd,21,male,0\\r\\n\"Davies, Mr Joseph\",3rd,17,male,0\\r\\n\"Davison, Mr Thomas Henry\",3rd,,male,0\\r\\n\"Davison, Mrs Thomas Henry (Mary Finck)\",3rd,,female,1\\r\\n\"Dean, Mr Bertram\",3rd,26,male,0\\r\\n\"Dean, Mrs Bertram (Eva)\",3rd,33,female,1\\r\\n\"Dean, Master Bertram Vere\",3rd,1,male,1\\r\\n\"Dean, Miss Elizabeth Gladys (Millve)\",3rd,0.17,female,1\\r\\n\"Delalic, Mr Regyo\",3rd,25,male,0\\r\\n\"De Messemaeker, Mr William Joseph\",3rd,36,male,1\\r\\n\"De Messemaeker, Mrs William Joseph (An)\",3rd,36,female,1\\r\\n\"De Mulder, Mr Theo\",3rd,30,male,1\\r\\n\"Denkoff, Mr Mito\",3rd,,male,0\\r\\n\"Dennis, Mr Samuel\",3rd,23,male,0\\r\\n\"Dennis, Mr William\",3rd,26,male,0\\r\\n\"Devaney, Miss Margaret\",3rd,19,female,1\\r\\n\"Dewan, Mr Frank\",3rd,65,male,0\\r\\n\"Dibo, Mr Elias\",3rd,,male,0\\r\\n\"Dimic, Mr Jovan\",3rd,42,male,0\\r\\n\"Dintcheff, Mr Valtcho\",3rd,43,male,0\\r\\n\"Dooley, Mr Patrick\",3rd,32,male,0\\r\\n\"Dorkings, Mr Edward Arthur\",3rd,19,male,1\\r\\n\"Dowdell, Miss Elizabeth\",3rd,30,female,1\\r\\n\"Doyle, Miss Elizabeth\",3rd,24,female,0\\r\\n\"Drapkin, Miss Jennie\",3rd,23,female,1\\r\\n\"Drazonovic, Mr Josef\",3rd,,male,0\\r\\n\"Driscoll, Miss Bridget\",3rd,24,female,1\\r\\n\"Duquemin, Mr Joseph\",3rd,24,male,1\\r\\n\"Dyker, Mr Adolf Fredrik\",3rd,23,male,0\\r\\n\"Dyker, Mrs Adolf Fredrik (An Elizabeth Judith Andersson)\",3rd,22,female,1\\r\\n\"Econovic, Mr Joso\",3rd,,male,0\\r\\n\"Edvardsson, Mr Gustaf Hjalmar\",3rd,18,male,0\\r\\n\"Eklund, Mr Hans Linus\",3rd,16,male,0\\r\\n\"Ekstrom, Mr Johan\",3rd,45,male,0\\r\\n\"Elias, Mr Elias\",3rd,,male,0\\r\\n\"Elias, Mr John\",3rd,,male,0\\r\\n\"Elias, Mr Joseph\",3rd,,male,0\\r\\n\"Elsbury, Mr James\",3rd,47,male,0\\r\\n\"Emanuel, Miss Virginia Ethel\",3rd,5,female,1\\r\\n\"Emmeth, Mr Thomas\",3rd,,male,0\\r\\n\"Everett, Thomas James\",3rd,,male,0\\r\\n\"Farrell, Mr James\",3rd,,male,0\\r\\n\"Finoli, Mr Luigi\",3rd,,male,1\\r\\n\"Fischer, Mr Eberhard Telander\",3rd,,male,0\\r\\n\"Flynn, Mr James\",3rd,,male,0\\r\\n\"Flynn, Mr John\",3rd,,male,0\\r\\n\"Foley, Mr Joseph\",3rd,,male,0\\r\\n\"Foley, Mr William\",3rd,,male,0\\r\\n\"Foo, Mr Choong\",3rd,,male,1\\r\\n\"Ford, Mr Arthur\",3rd,,male,0\\r\\n\"Ford, Miss Dooli Margaret\",3rd,21,female,0\\r\\n\"Ford, Mr Edward Watson\",3rd,18,male,0\\r\\n\"Ford, Miss Maggie\",3rd,9,female,0\\r\\n\"Ford, Mrs Edward (Margaret Ann)\",3rd,48,female,0\\r\\n\"Ford, Mr Neil Watson\",3rd,16,male,0\\r\\n\"Fox, Mr Patrick\",3rd,,male,0\\r\\n\"Franklin, Mr Charles\",3rd,,male,0\\r\\n\"Gallagher, Mr Martin\",3rd,25,male,0\\r\\n\"Garfirth, Mr John\",3rd,,male,0\\r\\n\"Georges, Mrs Shahini Weappi\",3rd,38,female,1\\r\\n\"Gilinski, Mr Leslie\",3rd,22,male,0\\r\\n\"Gilgh, Miss Katie\",3rd,16,female,1\\r\\n\"Glynn, Miss Mary Agatha\",3rd,,female,1\\r\\n\"Goldsmith, Mr Frank John\",3rd,33,male,0\\r\\n\"Goldsmith, Mrs Frank John (Emily A Brown)\",3rd,,female,1\\r\\n\"Goldsmith, Master Frank John William\",3rd,9,male,1\\r\\n\"Goldsmith, Mr than\",3rd,41,male,0\\r\\n\"Goncalves, Mr Manuel Estanslas\",3rd,38,male,0\\r\\n\"Goodwin, Mr Frederick\",3rd,40,male,0\\r\\n\"Goodwin, Mrs Frederick (Augusta)\",3rd,43,female,0\\r\\n\"Goodwin, Mr Charles E\",3rd,14,male,0\\r\\n\"Goodwin, Miss Lillian A\",3rd,16,female,0\\r\\n\"Goodwin, Master Harold V\",3rd,9,male,0\\r\\n\"Goodwin, Miss Jessie A\",3rd,10,female,0\\r\\n\"Goodwin, Master Sidney L\",3rd,6,male,0\\r\\n\"Goodwin, Master William F\",3rd,11,male,0\\r\\n\"Green, Mr George\",3rd,40,male,0\\r\\n\"Gronnestad, Mr Daniel Danielsen\",3rd,32,male,0\\r\\n\"Guest, Mr Robert\",3rd,,male,0\\r\\n\"Gustafsson, Mr Alfred Ossian\",3rd,20,male,0\\r\\n\"Gustafsson, Mr Anders Vilhelm\",3rd,37,male,0\\r\\n\"Gustafsson, Mr Johan Birger\",3rd,28,male,0\\r\\n\"Gustafsson, Mr Karl Gideon\",3rd,19,male,0\\r\\n\"Haas, Miss Aloisia\",3rd,24,female,0\\r\\n\"Hagardon, Miss Kate\",3rd,17,female,0\\r\\n\"Hagland, Mr Ingvald Olsen\",3rd,,male,0\\r\\n\"Hagland, Mr Konrad Mathias Reiersen\",3rd,,male,0\\r\\n\"Hakkarainen, Mr Pekko Pietari\",3rd,28,male,0\\r\\n\"Hakkarainen, Mrs Pekko Pietari\",3rd,24,female,1\\r\\n\"Hampe, Mr Leon\",3rd,20,male,0\\r\\n\"Hansen, Mr Claus Peter\",3rd,41,male,0\\r\\n\"Hansen, Mrs Claus Peter\",3rd,45,female,1\\r\\n\"Hansen, Mr Henrik Juul\",3rd,26,male,0\\r\\n\"Hansen, Mr Henry Damsgaard\",3rd,21,male,0\\r\\n\"Harknett, Miss Alice\",3rd,,female,0\\r\\n\"Harmer, Mr Abraham\",3rd,,male,0\\r\\n\"Hart, Mr Henry\",3rd,,male,0\\r\\n\"Hassan, Mr M Houssein\",3rd,,male,0\\r\\n\"Healy, Miss Nora\",3rd,,female,0\\r\\n\"Hedman, Mr Oscar\",3rd,27,male,1\\r\\n\"Hee, Mr Ling\",3rd,,male,0\\r\\n\"Hegarty, Miss Nora\",3rd,18,female,0\\r\\n\"Heikkinen, Miss Lai\",3rd,26,female,1\\r\\n\"Heininen, Miss Wendla Maria\",3rd,23,female,0\\r\\n\"Hellstrom, Hilda Maria\",3rd,22,female,1\\r\\n\"Hemming, Miss Nora\",3rd,,female,0\\r\\n\"Hendekovic, Mr Igz\",3rd,,male,0\\r\\n\"Henery, Delia\",3rd,,female,0\\r\\n\"Henriksson, Jenny Lovisa\",3rd,28,female,0\\r\\n\"Hirvonen, Mrs Alexander\",3rd,22,female,1\\r\\n\"Hirvonen, Miss Hildur E\",3rd,2,female,0\\r\\n\"Holm, Mr John Frederik Alexander\",3rd,43,male,0\\r\\n\"Holthen, Mr Johan Martin\",3rd,,male,0\\r\\n\"Honkanen, Miss Elu\",3rd,27,female,1\\r\\n\"Horgan, Mr John\",3rd,,male,0\\r\\n\"Howard, Miss May\",3rd,,female,1\\r\\n\"Humblin, Mr Adolf Mathias Nicolai Olsen\",3rd,42,male,0\\r\\n\"Hyman, Mr Abraham\",3rd,,male,1\\r\\n\"Ilieff, Mr Ylio\",3rd,,male,0\\r\\n\"Ilmakangas, Miss Ida Livija\",3rd,27,female,0\\r\\n\"Ilmakangas, Miss Pieta Sofia\",3rd,25,female,0\\r\\n\"Ivanoff, Mr Konio\",3rd,,male,0\\r\\n\"Jansen, Mr Carl Olof\",3rd,27,male,1\\r\\n\"Jardin, Mr Jose Netto\",3rd,,male,0\\r\\n\"Jensen, Miss Carla Christine\",3rd,19,female,1\\r\\n\"Jensen, Mr Hans Peder\",3rd,20,male,0\\r\\n\"Jensen, Mr Niels Peder\",3rd,48,male,0\\r\\n\"Jensen, Mr Svend Lauritz\",3rd,17,male,0\\r\\n\"Jermyn, Miss Annie\",3rd,,female,1\\r\\n\"Johannesen-Bratthammer, Mr Bernt\",3rd,,male,0\\r\\n\"Johanson, Mr Jakob Alfred\",3rd,34,male,0\\r\\n\"Johansson, Mr Erik\",3rd,22,male,0\\r\\n\"Johansson, Mr Gustaff Joel\",3rd,33,male,0\\r\\n\"Johansson, Mr Karl Johan\",3rd,32,male,1\\r\\n\"Johansson, Mr Nils\",3rd,29,male,0\\r\\n\"Johansson, Oscar L\",3rd,26,male,1\\r\\n\"Johnson, Mr Alfred\",3rd,49,male,0\\r\\n\"Johnson, Miss Eleanor Ileen\",3rd,1,female,1\\r\\n\"Johnson, Mr Malkolm Joackim\",3rd,33,male,0\\r\\n\"Johnson, Master Harold Theodor\",3rd,4,male,1\\r\\n\"Johnson, Mrs Oscar W\",3rd,24,female,0\\r\\n\"Johnson, Mr William Cahoone Jr\",3rd,19,male,0\\r\\n\"Johnston, Mr Andrew G\",3rd,,male,0\\r\\n\"Johnston, Mrs Andrew G\",3rd,,female,0\\r\\n\"Johnston, Miss Catherine H\",3rd,,female,0\\r\\n\"Johnston, Master William A\",3rd,,male,0\\r\\n\"Jonkoff, Mr Lazor\",3rd,,male,0\\r\\n\"Jonsson, Mr Carl\",3rd,32,male,1\\r\\n\"Jonsson, Nils Hilding\",3rd,27,male,0\\r\\n\"Jussila, Miss Ai Maria\",3rd,21,female,0\\r\\n\"Jussila, Mr Erik\",3rd,32,male,1\\r\\n\"Jussila, Miss Katrii\",3rd,20,female,0\\r\\n\"Kallio, Mr Nikolai Erland\",3rd,17,male,0\\r\\n\"Kalvig, Mr Johannes K Halverson\",3rd,21,male,0\\r\\n\"Karajic, Mr Milan\",3rd,30,male,0\\r\\n\"Karlsson, Mr Eir Gervasius\",3rd,21,male,1\\r\\n\"Karlsson, Mr Julius Konrad Eugen\",3rd,23,male,0\\r\\n\"Karlsson, Mr Nils August\",3rd,22,male,0\\r\\n\"Karun, Miss An Mary\",3rd,4,female,1\\r\\n\"Karun, Mr Franz\",3rd,39,male,0\\r\\n\"Kassem, Mr Fared\",3rd,,male,0\\r\\n\"Keane, Mr Andrew\",3rd,20,male,0\\r\\n\"Keefe, Mr Arthur\",3rd,,male,0\\r\\n\"Kekic, Mr Tido\",3rd,,male,0\\r\\n\"Kelly, Miss An Kate\",3rd,21,female,1\\r\\n\"Kelly, Mr James\",3rd,44,male,0\\r\\n\"Kelly, Mr James\",3rd,42,male,0\\r\\n\"Kelly, Miss Mary\",3rd,21,female,1\\r\\n\"Kennedy, Mr John\",3rd,24,male,0\\r\\n\"Khalil, Mr Betros\",3rd,,male,0\\r\\n\"Khalil, Mrs Betros\",3rd,,female,0\\r\\n\"Khalil, Mr Saad\",3rd,,male,0\\r\\n\"Kiern, Mr John\",3rd,25,male,0\\r\\n\"Kiern, Mr Philip\",3rd,22,male,0\\r\\n\"Kilgannon, Mr Thomas\",3rd,22,male,0\\r\\n\"Kink, Mr Anton\",3rd,39,male,1\\r\\n\"Kink, Mrs Anton (Louise Heilmann)\",3rd,26,female,0\\r\\n\"Kink, Miss Louise Gretchen\",3rd,4,female,1\\r\\n\"Kink, Miss Maria\",3rd,22,female,0\\r\\n\"Kink, Mr Vincenz\",3rd,26,male,0\\r\\n\"Klasen, Miss Gertrud Emilia\",3rd,1.5,female,0\\r\\n\"Klasen, Mrs Hulda Kristi\",3rd,36,female,0\\r\\n\"Klasen, Mr Klas Albin\",3rd,18,male,0\\r\\n\"Kraeff, Mr Theodor\",3rd,,male,0\\r\\n\"Krekorian, Mr Neshan\",3rd,25,male,1\\r\\n\"Lahowd, Mr Sarkis\",3rd,,male,0\\r\\n\"Laitinen, Miss Kriti Sofia\",3rd,37,female,0\\r\\n\"Laleff, Mr Kristo\",3rd,,male,0\\r\\n\"Lam, Mr Ali\",3rd,,male,1\\r\\n\"Lam, Mr Len\",3rd,,male,0\\r\\n\"Landegren, Miss Aurora Adelia\",3rd,22,female,1\\r\\n\"Lane, Mr Patrick\",3rd,20,male,0\\r\\n\"Lang, Mr Fang\",3rd,26,male,1\\r\\n\"Larsson, Mr August Viktor\",3rd,29,male,0\\r\\n\"Larsson, Mr Bengt Edvin\",3rd,29,male,0\\r\\n\"Larsson-Rondberg, Mr Edvard\",3rd,22,male,0\\r\\n\"Leeni, Mr Fahim\",3rd,,male,1\\r\\n\"Lefebre, Mrs Frank\",3rd,,female,0\\r\\n\"Lefebre, Master Henry\",3rd,,male,0\\r\\n\"Lefebre, Miss Ida\",3rd,,female,0\\r\\n\"Lefebre, Miss Jeannie\",3rd,,female,0\\r\\n\"Lefebre, Miss Mathilde\",3rd,,female,0\\r\\n\"Leinonen, Mr Antti Gustaf\",3rd,32,male,0\\r\\n\"Lemberopolous, Mr Peter L\",3rd,,male,0\\r\\n\"Lemom, Mr Denis\",3rd,21,male,0\\r\\n\"Lemon, Miss Mary\",3rd,21,female,0\\r\\n\"Leord, Mr Lionel\",3rd,36,male,0\\r\\n\"Lester, Mr James\",3rd,39,male,0\\r\\n\"Lindahl, Miss Agda V\",3rd,25,female,0\\r\\n\"Lindblom, Miss Augusta Charlotta\",3rd,45,female,0\\r\\n\"Lindell, Mr Edvard Bengtsson\",3rd,36,male,0\\r\\n\"Lindell, Mrs Edvard Bengtsson\",3rd,30,female,0\\r\\n\"Lindqvist, Eino William\",3rd,20,male,1\\r\\n\"Linehan, Mr Michael\",3rd,,male,0\\r\\n\"Ling, Mr Lee\",3rd,,male,0\\r\\n\"Lithman, Mr Simon\",3rd,,male,0\\r\\n\"Lobb, Mr William Arthur\",3rd,,male,0\\r\\n\"Lobb, Mrs William Arthur\",3rd,,female,0\\r\\n\"Lockyer, Mr Edward\",3rd,,male,0\\r\\n\"Lovell, Mr John\",3rd,,male,0\\r\\n\"Lulich, Mr Nicola\",3rd,,male,1\\r\\n\"Lundahl, Mr Johan\",3rd,,male,0\\r\\n\"Lundin, Miss Olga Elida\",3rd,,female,1\\r\\n\"Lundstrom, Mr Thure Edvin\",3rd,,male,0\\r\\n\"Lyntakoff, Mr Stanko\",3rd,,male,0\\r\\n\"MacKay, Mr George William\",3rd,,male,0\\r\\n\"Madigan, Miss Margaret\",3rd,,female,1\\r\\n\"Madsen, Mr Frithiof\",3rd,,male,0\\r\\n\"Maenpaa, Mr Matti Alexanteri\",3rd,,male,0\\r\\n\"Mahon, Miss Delia\",3rd,,female,0\\r\\n\"Maisner, Mr Simon\",3rd,,male,0\\r\\n\"Makinen, Mr Kalle Edvard\",3rd,,male,0\\r\\n\"Mamee, Mr Han\",3rd,,male,1\\r\\n\"Mangan, Miss Mary\",3rd,,female,0\\r\\n\"Mannion, Miss Margareth\",3rd,,female,1\\r\\n\"Mansour, Mr Han\",3rd,,male,0\\r\\n\"Mardirosian, Mr Sarkis\",3rd,,male,0\\r\\n\"Marinko, Mr Dmitri\",3rd,,male,0\\r\\n\"Markim, Mr Johann\",3rd,,male,0\\r\\n\"Markoff, Mr Marin\",3rd,,male,0\\r\\n\"Masselmany, Mrs Fatima\",3rd,,female,1\\r\\n\"Matinoff, Mr Nicola\",3rd,,male,0\\r\\n\"McCarthy, Miss Katie\",3rd,,female,1\\r\\n\"McCormack, Mr Thomas J\",3rd,,male,0\\r\\n\"McCoy, Miss Agnes\",3rd,,female,0\\r\\n\"McCoy, Miss Alice\",3rd,,female,0\\r\\n\"McCoy, Mr Berrd\",3rd,,male,0\\r\\n\"McDermott, Miss Delia\",3rd,,female,0\\r\\n\"McElroy, Mr Michael\",3rd,,male,0\\r\\n\"McGovern, Mrs Hugh\",3rd,,female,1\\r\\n\"McGowan, Miss An\",3rd,,female,0\\r\\n\"McGowan, Miss Katherine\",3rd,,female,0\\r\\n\"McMahon, Mr Martin\",3rd,,male,0\\r\\n\"Mcmee, Mr Neal\",3rd,,male,0\\r\\n\"Mcmee, Mrs Neal\",3rd,,female,0\\r\\n\"Meanwell, Miss Marion Ogden\",3rd,,female,0\\r\\n\"Mechen, Mr John\",3rd,,male,0\\r\\n\"Meek, Mrs Thomas\",3rd,,female,0\\r\\n\"Melkebuk, Mrs Philemon\",3rd,23,female,0\\r\\n\"Meo, Mr Alfonso\",3rd,,male,0\\r\\n\"Midtsjo, Mr Karl Albert\",3rd,,male,1\\r\\n\"Mihoff, Mr Stoytcho\",3rd,,male,0\\r\\n\"Miles, Mr Frank\",3rd,,male,0\\r\\n\"Mineff, Mr Ivan\",3rd,,male,0\\r\\n\"Minkoff, Mr Lazar\",3rd,,male,0\\r\\n\"Mirko, Mr Dika\",3rd,,male,0\\r\\n\"Mitkoff, Mr Mito\",3rd,,male,0\\r\\n\"Mocklare, Miss Helen Mary\",3rd,,female,1\\r\\n\"Moen, Mr Sigurd H\",3rd,,male,0\\r\\n\"Moor, Mrs Beila\",3rd,,female,1\\r\\n\"Moor, Master Meier\",3rd,,male,0\\r\\n\"Moore, Mr Leord Charles\",3rd,,male,0\\r\\n\"Moran, Miss Bertha\",3rd,,female,1\\r\\n\"Moran, Mr Daniel J\",3rd,,male,0\\r\\n\"Moran, Mr James\",3rd,,male,0\\r\\n\"Morley, Mr Henry Samuel\",3rd,,male,0\\r\\n\"Morrow, Mr Thomas Rowan\",3rd,,male,0\\r\\n\"Moubarek (Borak), Mr Han (John)\",3rd,,male,1\\r\\n\"Moubarek, Mrs George\",3rd,,female,0\\r\\n\"Moubarek, Master George\",3rd,,male,0\\r\\n\"Moubarek, Master William George\",3rd,,male,0\\r\\n\"Moss, Albert Johan\",3rd,,male,0\\r\\n\"Moussa, Mrs Mantoura Baloics\",3rd,,female,0\\r\\n\"Moutal, Mr Rahamin\",3rd,,male,0\\r\\n\"Mullins, Miss Katie\",3rd,,female,1\\r\\n\"Mulvihill, Miss Bertha E\",3rd,,female,0\\r\\n\"Murdlin, Mr Joseph\",3rd,,male,0\\r\\n\"Murphy, Miss Katherine\",3rd,,female,0\\r\\n\"Murphy, Miss Margaret\",3rd,,female,0\\r\\n\"Murphy, Miss Nora\",3rd,,female,0\\r\\n\"Myhrman, Mr Pehr Fabian Oliver Malkolm\",3rd,,male,0\\r\\n\"ckid, Miss Maria\",3rd,,female,1\\r\\n\"ckid, Mr Said\",3rd,,male,0\\r\\n\"ckid, Mrs Said\",3rd,,female,0\\r\\n\"hill, Mr Toufik\",3rd,,male,0\\r\\n\"idenoff, Mr Penko\",3rd,,male,0\\r\\n\"ncarrow, W H\",3rd,,male,0\\r\\n\"Niklasen, Sander\",3rd,,male,0\\r\\n\"Nosworthy, Richard C\",3rd,,male,0\\r\\n\"jib, Miss Adele Kiamie\",3rd,,female,1\\r\\n\"ncarrow, Mr William Henry\",3rd,,male,0\\r\\n\"nkoff, Mr Minko\",3rd,,male,0\\r\\n\"sr, Mr Mustafa\",3rd,,male,0\\r\\n\"ssr, Mr Saade Jean\",3rd,,male,0\\r\\n\"ughton, Miss Hanh\",3rd,,female,0\\r\\n\"Nemaugh, Mr Robert\",3rd,,male,0\\r\\n\"Nenkoff, Mr Christo\",3rd,,male,0\\r\\n\"Nicola-Yarred, Miss Jamila\",3rd,,female,1\\r\\n\"Nicola-Yarred, Master Elias\",3rd,,male,0\\r\\n\"Nieminen, Miss Manta Josefi\",3rd,,female,0\\r\\n\"Niklasson, Mr Samuel\",3rd,,male,0\\r\\n\"Nilsson, Mr August Ferdind\",3rd,,male,0\\r\\n\"Nilsson, Miss Berta Olivia\",3rd,,female,1\\r\\n\"Nilsson, Miss Helmi Josefi\",3rd,,female,0\\r\\n\"Niskanen, Mr Johan\",3rd,,male,0\\r\\n\"Nosworthy, Mr Richard Cater\",3rd,,male,0\\r\\n\"Novel, Mansouer\",3rd,,male,1\\r\\n\"Nysten, Miss An\",3rd,,female,0\\r\\n\"Nysveen, Mr Johan H\",3rd,,male,0\\r\\n\"O\\'Brien, Mr Denis\",3rd,,male,0\\r\\n\"O\\'Brien, Mr Thomas\",3rd,,male,0\\r\\n\"O\\'Brien, Mrs Thomas\",3rd,,female,1\\r\\n\"O\\'Connell, Mr Patrick D\",3rd,,male,0\\r\\n\"O\\'Connor, Mr Maurice\",3rd,,male,0\\r\\n\"O\\'Connor, Mr Patrick\",3rd,,male,0\\r\\n\"Odahl, Mr Nils Martin\",3rd,,male,1\\r\\n\"O\\'Dwyer, Miss Nellie\",3rd,,female,0\\r\\n\"Ohman, Miss Velin\",3rd,,female,0\\r\\n\"O\\'Keefe, Mr Patrick\",3rd,,male,0\\r\\n\"OLeary, Miss Norah\",3rd,,female,0\\r\\n\"Olsen, Master Arthur\",3rd,,male,0\\r\\n\"Olsen, Mr Charlie (Carl)\",3rd,,male,0\\r\\n\"Olsen, Mr Henry Margido\",3rd,,male,0\\r\\n\"Olsen, Mr Ole M\",3rd,,male,0\\r\\n\"Olsson, Miss Elida\",3rd,,female,0\\r\\n\"Olsson, Mr Nils Johan\",3rd,,male,0\\r\\n\"Olsson, Mr Oscar Johansson\",3rd,,male,1\\r\\n\"O\\'Neill, Miss Bridget\",3rd,,female,0\\r\\n\"Oreskovic, Mr Jeko\",3rd,,male,0\\r\\n\"Oreskovic, Mr Luka\",3rd,,male,0\\r\\n\"Oreskovic, Mr Maria\",3rd,,male,0\\r\\n\"Osen, Mr Olof Elon\",3rd,,male,0\\r\\n\"Osman, Miss Maria\",3rd,,female,1\\r\\n\"O\\'Sullivan, Miss Bridget\",3rd,,female,0\\r\\n\"Panula, Mr Ernesti Arvid\",3rd,,male,0\\r\\n\"Panula, Mr Jaako Arnold\",3rd,,male,0\\r\\n\"Panula, Master Juha Niilo\",3rd,,male,0\\r\\n\"Panula, Mrs John\",3rd,,female,0\\r\\n\"Panula, Master Urho Abraham\",3rd,,male,0\\r\\n\"Panula, Master William\",3rd,,male,0\\r\\n\"Pasic, Mr Jakob\",3rd,,male,0\\r\\n\"Paulner, Mr Uscher\",3rd,,male,0\\r\\n\"Paulsson, Master Gosta Leord\",3rd,,male,0\\r\\n\"Paulsson, Mrs Nils\",3rd,,female,0\\r\\n\"Paulsson, Master Paul Folke\",3rd,,male,0\\r\\n\"Paulsson, Miss Sti Viola\",3rd,,female,0\\r\\n\"Paulsson, Miss Torborg Danira\",3rd,,female,0\\r\\n\"Pavlovic, Mr Stefo\",3rd,,male,0\\r\\n\"Peacock, Master Alfred Edward\",3rd,,male,0\\r\\n\"Peacock, Mrs Benjamin\",3rd,,female,0\\r\\n\"Peacock, Miss Treasteall\",3rd,,female,0\\r\\n\"Pearce, Mr Ernest\",3rd,,male,0\\r\\n\"Pecruic, Mr Mate\",3rd,,male,0\\r\\n\"Pecruic, Mr Tome\",3rd,,male,0\\r\\n\"Pedersen, Mr Olaf\",3rd,,male,0\\r\\n\"Peduzzi, Mr Joseph\",3rd,,male,0\\r\\n\"Pekoniemi, Mr Edvard\",3rd,,male,1\\r\\n\"Peltomaki, Nikolai Johannes\",3rd,,male,0\\r\\n\"Perkin, Mr John Henry\",3rd,,male,0\\r\\n\"Persson, Mr Ernst Ulrik\",3rd,,male,1\\r\\n\"Peter (Joseph), Miss Mary\",3rd,,female,0\\r\\n\"Peter (Joseph), Mrs Catherine\",3rd,,female,0\\r\\n\"Peter (Joseph), Master Michael J\",3rd,,male,0\\r\\n\"Peters, Miss Katie\",3rd,,female,0\\r\\n\"Petersen, Mr Marius\",3rd,,male,0\\r\\n\"Petranec, Miss Matilda\",3rd,,female,0\\r\\n\"Petroff, Mr Nedeca\",3rd,,male,0\\r\\n\"Petroff, Mr Pentcho\",3rd,,male,0\\r\\n\"Pettersson, Miss Ellen talia\",3rd,,female,0\\r\\n\"Peterson, Mr Johan Emil\",3rd,,male,0\\r\\n\"Pickard (Trembisky), Mr Berk\",3rd,,male,1\\r\\n\"Plotcharsky, Mr Vasil\",3rd,,male,0\\r\\n\"Potchett, Mr George\",3rd,,male,0\\r\\n\"Radeff, Mr Alexander\",3rd,,male,0\\r\\n\"Raibid, Mr Razi\",3rd,,male,0\\r\\n\"Reed, Mr James George\",3rd,,male,0\\r\\n\"Reynolds, Mr Harold\",3rd,,male,0\\r\\n\"Rice, Master Albert\",3rd,,male,0\\r\\n\"Rice, Master Arthur\",3rd,,male,0\\r\\n\"Rice, Master George\",3rd,,male,0\\r\\n\"Rice, Master Eric\",3rd,,male,0\\r\\n\"Rice, Master Eugene\",3rd,,male,0\\r\\n\"Rice, Mrs William\",3rd,,female,0\\r\\n\"Riihiivouri, Miss Sanni\",3rd,,female,0\\r\\n\"Rintamaki, Mr Matti\",3rd,,male,0\\r\\n\"Riordan, Miss Hanh\",3rd,,female,1\\r\\n\"Risien, Mr Samuel\",3rd,,male,0\\r\\n\"Risien, Mrs Samuel\",3rd,,female,0\\r\\n\"Robins, Mr Alexander A\",3rd,,male,0\\r\\n\"Robins, Mrs Alexander A\",3rd,,female,0\\r\\n\"Rommetvedt, Mr Karl Kristian Knut\",3rd,,male,0\\r\\n\"Rogers, Mr William John\",3rd,,male,0\\r\\n\"Rosblom, Mrs Viktor\",3rd,,female,0\\r\\n\"Rosblom, Miss Salli Hele\",3rd,,female,0\\r\\n\"Rosblom, Mr Viktor Rickard\",3rd,,male,0\\r\\n\"Roth, Miss Sarah\",3rd,,female,1\\r\\n\"Rouse, Mr Richard Henry\",3rd,,male,0\\r\\n\"Rush, Mr Alfred George John\",3rd,,male,0\\r\\n\"Ryan, Mr Edward Ryan\",3rd,,male,1\\r\\n\"Ryan, Mr Patrick\",3rd,,male,0\\r\\n\"Saad, Mr Amin\",3rd,,male,0\\r\\n\"Saad, Khalil\",3rd,,male,1\\r\\n\"Sadlier, Mr Matthew\",3rd,,male,0\\r\\n\"Sadowitz, Mr Harry\",3rd,,male,0\\r\\n\"Sage, Miss Ada\",3rd,,female,0\\r\\n\"Sage, Miss Constance\",3rd,,female,0\\r\\n\"Sage, Miss Dorothy\",3rd,,female,0\\r\\n\"Sage, Mr Douglas\",3rd,,male,0\\r\\n\"Sage, Mr Frederick\",3rd,,male,0\\r\\n\"Sage, Mr George\",3rd,,male,0\\r\\n\"Sage, Mr John\",3rd,,male,0\\r\\n\"Sage, Mrs John\",3rd,,female,0\\r\\n\"Sage, Miss Stella\",3rd,,female,0\\r\\n\"Sage, Thomas (child)\",3rd,,male,0\\r\\n\"Sage, Master William\",3rd,,male,0\\r\\n\"Salander, Mr Karl Johan\",3rd,21,male,0\\r\\n\"Salkjelsvik, Miss An\",3rd,,female,1\\r\\n\"Salonen, Mr Johan Werner\",3rd,,male,0\\r\\n\"Samaan, Mr Elias\",3rd,,male,0\\r\\n\"Samaan, Mr Han\",3rd,,male,0\\r\\n\"Samaan, Mr Youssef\",3rd,,male,0\\r\\n\"Sandstrom, Miss Hjalmar\",3rd,,female,1\\r\\n\"Sandstrom, Miss Beatrice Irene\",3rd,1.5,female,0\\r\\n\"Sandstrom, Miss Marguerite Rut\",3rd,,female,0\\r\\n\"Sather, Simon Sivertsen\",3rd,,male,0\\r\\n\"Saundercock, William Henry\",3rd,,male,0\\r\\n\"Sawyer, Mr Frederick\",3rd,,male,0\\r\\n\"Scanlan, Mr James\",3rd,,male,0\\r\\n\"Sdycoff, Mr Todor\",3rd,,male,0\\r\\nSeman Master Betros,3rd,,male,0\\r\\n\"Serota, Mr Maurice\",3rd,,male,0\\r\\n\"Shaughnesay, Mr Patrick\",3rd,,male,0\\r\\n\"Shedid (Sitik), Mr Daher (Docart)\",3rd,,male,0\\r\\n\"Sheerlinck, Mr Jean\",3rd,,male,1\\r\\n\"Shellard, Mr Frederick B\",3rd,,male,0\\r\\n\"Shine, Miss Ellen\",3rd,,female,1\\r\\n\"Shorney, Mr Charles\",3rd,,male,0\\r\\n\"Simmons, Mr John\",3rd,,male,0\\r\\n\"Sirayanian, Mr Arsun\",3rd,,male,0\\r\\n\"Sivic, Mr Husen\",3rd,,male,0\\r\\n\"Sivola, Mr Antti\",3rd,,male,0\\r\\n\"Sjoblom, Miss An Sofia\",3rd,,female,1\\r\\n\"Sholt, Mr Peter Andreas Lauritz Andersen\",3rd,,male,0\\r\\n\"Skinner, Mr Henry John\",3rd,,male,0\\r\\n\"Skoog, Master Harald\",3rd,,male,0\\r\\n\"Skoog, Master Karl\",3rd,,male,0\\r\\n\"Skoog, Miss Mabel\",3rd,,female,0\\r\\n\"Skoog, Miss Margit\",3rd,,female,0\\r\\n\"Skoog, Mr William\",3rd,,male,0\\r\\n\"Skoog, Mrs William\",3rd,,female,0\\r\\n\"Slabenoff, Mr Petco\",3rd,,male,0\\r\\n\"Slocovski, Mr Selman\",3rd,,male,0\\r\\n\"Smiljanovic, Mr Mile\",3rd,,male,0\\r\\n\"Smyth, Miss Julia\",3rd,,female,1\\r\\n\"Solvang, Mrs Le Jacobsen\",3rd,,female,0\\r\\n\"Somerton, Mr Francis William\",3rd,,male,0\\r\\n\"Sop, Mr Jules\",3rd,,male,1\\r\\n\"Spector, Mr Woolf\",3rd,,male,0\\r\\n\"Staneff, Mr Ivan\",3rd,,male,0\\r\\n\"Stankovic, Mr Jovan\",3rd,,male,0\\r\\n\"Stanley, Miss Amy Zilla Elsie\",3rd,,female,1\\r\\n\"Stanley, Mr Edward Roland\",3rd,,male,0\\r\\n\"Storey, Mr Thomas\",3rd,,male,0\\r\\n\"Stoyehoff, Mr Ilia\",3rd,,male,0\\r\\n\"Strandberg, Miss Ida Sofia\",3rd,,female,0\\r\\n\"Stranden, Mr Juho\",3rd,,male,1\\r\\n\"Strilic, Mr Ivan\",3rd,,male,0\\r\\n\"Strom, Mrs Wilhelm\",3rd,,female,0\\r\\n\"Strom, Miss Telma (Selma) Matilda\",3rd,,female,0\\r\\n\"Sunderland, Mr Victor Francis\",3rd,,male,1\\r\\n\"Sundman, Mr Johan Julian\",3rd,,male,0\\r\\n\"Sutehall, Mr Henry, Jr\",3rd,,male,0\\r\\n\"Svensson, Mr Johan\",3rd,,male,0\\r\\n\"Svensson, Mr Johan Cervin\",3rd,,male,1\\r\\n\"Svensson, Mr Olof\",3rd,,male,0\\r\\n\"Tannous, Mr Thomas\",3rd,,male,0\\r\\n\"Tenglin, Mr Gunr Isidor\",3rd,,male,1\\r\\n\"Theobald, Mr Thomas Leord\",3rd,,male,0\\r\\n\"Thomas, Mrs Alexander\",3rd,,female,1\\r\\n\"Thomas, Master Assad Alexander\",3rd,,male,0\\r\\n\"Thomas, Mr Charles\",3rd,,male,0\\r\\n\"Thomas, Mr John, Jr\",3rd,,male,0\\r\\n\"Thomas, Mr John (? 1st/2nd class)\",3rd,,male,0\\r\\n\"Thomson, Mr Alexander\",3rd,,male,0\\r\\n\"Thorneycroft, Mr Percival\",3rd,,male,0\\r\\n\"Thorneycroft, Mrs Percival\",3rd,,female,1\\r\\n\"Tikkanen, Mr Juho\",3rd,,male,0\\r\\n\"Tobin, Mr Roger\",3rd,,male,0\\r\\n\"Todoroff, Mr Lalio\",3rd,,male,0\\r\\n\"Toerber, Mr Ernest William\",3rd,,male,0\\r\\n\"Tomlin, Mr Ernest Portage\",3rd,,male,0\\r\\n\"Torfa, Mr Assad\",3rd,,male,0\\r\\n\"Tornquist, Mr William Henry\",3rd,25,male,1\\r\\n\"Touma (Thomas), Mrs Darwin\",3rd,,female,0\\r\\n\"Touma (Thomas), Master George\",3rd,,male,0\\r\\n\"Touma (Thomas), Miss Hanh\",3rd,,female,0\\r\\n\"Turcin, Mr Stefan\",3rd,,male,0\\r\\n\"Turja, Miss An Sofia\",3rd,18,female,1\\r\\n\"Turkula, Mrs Hedvig\",3rd,63,female,1\\r\\n\"Uzelas, Mr Joso\",3rd,,male,0\\r\\n\"Van Billiard, Mr Austin Blyler\",3rd,,male,0\\r\\n\"Van Billiard, Master James William\",3rd,,male,0\\r\\n\"Van Billiard, Master Walter John\",3rd,,male,0\\r\\n\"Van der Planke, Miss Augusta\",3rd,18,female,0\\r\\n\"Van der Planke, Mr Jules\",3rd,31,male,0\\r\\n\"Van der Planke, Mrs Jules\",3rd,31,female,0\\r\\n\"Van der Planke, Mr Leon\",3rd,15,male,0\\r\\n\"Van der Steen, Mr Leo Peter\",3rd,28,male,0\\r\\n\"Van de Velde, Mr John Joseph\",3rd,36,male,0\\r\\n\"Vandewalle, Mr Nestor Cyriel\",3rd,28,male,0\\r\\n\"Van Impe, Miss Catharine\",3rd,10,female,0\\r\\n\"Van Impe, Mr Jean Baptiste\",3rd,36,male,0\\r\\n\"Van Impe, Mrs Jean Baptiste\",3rd,30,female,0\\r\\n\"Vartunian, Mr David\",3rd,22,male,1\\r\\n\"Vassilios, Mr Catavelas\",3rd,,male,0\\r\\n\"Vendel, Mr Olof Wdvin\",3rd,29,male,0\\r\\n\"Vereruysse, Mr Victor\",3rd,47,male,0\\r\\n\"Vestrom, Miss Hulda Amanda Adolfi\",3rd,14,female,0\\r\\n\"Vonk, Mr Jenko\",3rd,22,male,0\\r\\n\"Ware, Mr Frederick\",3rd,,male,0\\r\\n\"Warren, Mr Charles William\",3rd,,male,0\\r\\n\"Wazli, Mr Yousif\",3rd,,male,0\\r\\n\"Webber, Mr James\",3rd,,male,0\\r\\n\"Wennerstrom, Mr August Edvard\",3rd,,male,1\\r\\n\"Wenzel, Mr Linhart\",3rd,,male,0\\r\\n\"Widegren, Mr Charles Peter\",3rd,51,male,0\\r\\n\"Wiklund, Mr Jacob Alfred\",3rd,18,male,0\\r\\n\"Wilkes, Mrs Ellen\",3rd,45,female,1\\r\\n\"Willer, Mr Aaron\",3rd,,male,0\\r\\n\"Willey, Mr Edward\",3rd,,male,0\\r\\n\"Williams, Mr Howard Hugh\",3rd,,male,0\\r\\n\"Williams, Mr Leslie\",3rd,28,male,0\\r\\n\"Windelov, Mr Eir\",3rd,21,male,0\\r\\n\"Wirz, Mr Albert\",3rd,27,male,0\\r\\n\"Wiseman, Mr Phillippe\",3rd,,male,0\\r\\n\"Wittevrongel, Mr Camiel\",3rd,36,male,0\\r\\n\"Yalsevac, Mr Ivan\",3rd,,male,1\\r\\n\"Yasbeck, Mr Antoni\",3rd,27,male,0\\r\\n\"Yasbeck, Mrs Antoni\",3rd,15,female,1\\r\\n\"Youssef, Mr Gerios\",3rd,,male,0\\r\\n\"Zabour, Miss Hileni\",3rd,,female,0\\r\\n\"Zabour, Miss Tamini\",3rd,,female,0\\r\\n\"Zakarian, Mr Artun\",3rd,27,male,0\\r\\n\"Zakarian, Mr Maprieder\",3rd,26,male,0\\r\\n\"Zenni, Mr Philip\",3rd,22,male,0\\r\\n\"Lievens, Mr Rene\",3rd,24,male,0\\r\\n\"Zimmerman, Leo\",3rd,29,male,0\\r\\n'}"
            ]
          },
          "metadata": {},
          "execution_count": 3
        }
      ]
    },
    {
      "cell_type": "code",
      "source": [
        "# Importing dataset\n",
        "data = pd.read_csv(\"Titanic.csv\")\n",
        "\n",
        "# Convert categorical variable to numeric\n",
        "data[\"Sex_cleaned\"]=np.where(data[\"Sex\"]==\"male\",0,1)"
      ],
      "metadata": {
        "id": "OJn-s5bdBbo5"
      },
      "execution_count": 9,
      "outputs": []
    },
    {
      "cell_type": "code",
      "source": [
        "data"
      ],
      "metadata": {
        "colab": {
          "base_uri": "https://localhost:8080/",
          "height": 655
        },
        "id": "F2rE9Gj5B8EZ",
        "outputId": "a03ed0a5-8069-40a0-88f4-af0d48855dcd"
      },
      "execution_count": 10,
      "outputs": [
        {
          "output_type": "execute_result",
          "data": {
            "text/html": [
              "\n",
              "  <div id=\"df-9346bd15-bef2-4014-84fe-4e19d1483728\">\n",
              "    <div class=\"colab-df-container\">\n",
              "      <div>\n",
              "<style scoped>\n",
              "    .dataframe tbody tr th:only-of-type {\n",
              "        vertical-align: middle;\n",
              "    }\n",
              "\n",
              "    .dataframe tbody tr th {\n",
              "        vertical-align: top;\n",
              "    }\n",
              "\n",
              "    .dataframe thead th {\n",
              "        text-align: right;\n",
              "    }\n",
              "</style>\n",
              "<table border=\"1\" class=\"dataframe\">\n",
              "  <thead>\n",
              "    <tr style=\"text-align: right;\">\n",
              "      <th></th>\n",
              "      <th>Name</th>\n",
              "      <th>PClass</th>\n",
              "      <th>Age</th>\n",
              "      <th>Sex</th>\n",
              "      <th>Survived</th>\n",
              "      <th>Sex_cleaned</th>\n",
              "    </tr>\n",
              "  </thead>\n",
              "  <tbody>\n",
              "    <tr>\n",
              "      <th>0</th>\n",
              "      <td>Allen, Miss Elisabeth Walton</td>\n",
              "      <td>1st</td>\n",
              "      <td>29.00</td>\n",
              "      <td>female</td>\n",
              "      <td>1</td>\n",
              "      <td>1</td>\n",
              "    </tr>\n",
              "    <tr>\n",
              "      <th>1</th>\n",
              "      <td>Allison, Miss Helen Loraine</td>\n",
              "      <td>1st</td>\n",
              "      <td>2.00</td>\n",
              "      <td>female</td>\n",
              "      <td>0</td>\n",
              "      <td>1</td>\n",
              "    </tr>\n",
              "    <tr>\n",
              "      <th>2</th>\n",
              "      <td>Allison, Mr Hudson Joshua Creighton</td>\n",
              "      <td>1st</td>\n",
              "      <td>30.00</td>\n",
              "      <td>male</td>\n",
              "      <td>0</td>\n",
              "      <td>0</td>\n",
              "    </tr>\n",
              "    <tr>\n",
              "      <th>3</th>\n",
              "      <td>Allison, Mrs Hudson JC (Bessie Waldo Daniels)</td>\n",
              "      <td>1st</td>\n",
              "      <td>25.00</td>\n",
              "      <td>female</td>\n",
              "      <td>0</td>\n",
              "      <td>1</td>\n",
              "    </tr>\n",
              "    <tr>\n",
              "      <th>4</th>\n",
              "      <td>Allison, Master Hudson Trevor</td>\n",
              "      <td>1st</td>\n",
              "      <td>0.92</td>\n",
              "      <td>male</td>\n",
              "      <td>1</td>\n",
              "      <td>0</td>\n",
              "    </tr>\n",
              "    <tr>\n",
              "      <th>...</th>\n",
              "      <td>...</td>\n",
              "      <td>...</td>\n",
              "      <td>...</td>\n",
              "      <td>...</td>\n",
              "      <td>...</td>\n",
              "      <td>...</td>\n",
              "    </tr>\n",
              "    <tr>\n",
              "      <th>1308</th>\n",
              "      <td>Zakarian, Mr Artun</td>\n",
              "      <td>3rd</td>\n",
              "      <td>27.00</td>\n",
              "      <td>male</td>\n",
              "      <td>0</td>\n",
              "      <td>0</td>\n",
              "    </tr>\n",
              "    <tr>\n",
              "      <th>1309</th>\n",
              "      <td>Zakarian, Mr Maprieder</td>\n",
              "      <td>3rd</td>\n",
              "      <td>26.00</td>\n",
              "      <td>male</td>\n",
              "      <td>0</td>\n",
              "      <td>0</td>\n",
              "    </tr>\n",
              "    <tr>\n",
              "      <th>1310</th>\n",
              "      <td>Zenni, Mr Philip</td>\n",
              "      <td>3rd</td>\n",
              "      <td>22.00</td>\n",
              "      <td>male</td>\n",
              "      <td>0</td>\n",
              "      <td>0</td>\n",
              "    </tr>\n",
              "    <tr>\n",
              "      <th>1311</th>\n",
              "      <td>Lievens, Mr Rene</td>\n",
              "      <td>3rd</td>\n",
              "      <td>24.00</td>\n",
              "      <td>male</td>\n",
              "      <td>0</td>\n",
              "      <td>0</td>\n",
              "    </tr>\n",
              "    <tr>\n",
              "      <th>1312</th>\n",
              "      <td>Zimmerman, Leo</td>\n",
              "      <td>3rd</td>\n",
              "      <td>29.00</td>\n",
              "      <td>male</td>\n",
              "      <td>0</td>\n",
              "      <td>0</td>\n",
              "    </tr>\n",
              "  </tbody>\n",
              "</table>\n",
              "<p>1313 rows × 6 columns</p>\n",
              "</div>\n",
              "      <button class=\"colab-df-convert\" onclick=\"convertToInteractive('df-9346bd15-bef2-4014-84fe-4e19d1483728')\"\n",
              "              title=\"Convert this dataframe to an interactive table.\"\n",
              "              style=\"display:none;\">\n",
              "        \n",
              "  <svg xmlns=\"http://www.w3.org/2000/svg\" height=\"24px\"viewBox=\"0 0 24 24\"\n",
              "       width=\"24px\">\n",
              "    <path d=\"M0 0h24v24H0V0z\" fill=\"none\"/>\n",
              "    <path d=\"M18.56 5.44l.94 2.06.94-2.06 2.06-.94-2.06-.94-.94-2.06-.94 2.06-2.06.94zm-11 1L8.5 8.5l.94-2.06 2.06-.94-2.06-.94L8.5 2.5l-.94 2.06-2.06.94zm10 10l.94 2.06.94-2.06 2.06-.94-2.06-.94-.94-2.06-.94 2.06-2.06.94z\"/><path d=\"M17.41 7.96l-1.37-1.37c-.4-.4-.92-.59-1.43-.59-.52 0-1.04.2-1.43.59L10.3 9.45l-7.72 7.72c-.78.78-.78 2.05 0 2.83L4 21.41c.39.39.9.59 1.41.59.51 0 1.02-.2 1.41-.59l7.78-7.78 2.81-2.81c.8-.78.8-2.07 0-2.86zM5.41 20L4 18.59l7.72-7.72 1.47 1.35L5.41 20z\"/>\n",
              "  </svg>\n",
              "      </button>\n",
              "      \n",
              "  <style>\n",
              "    .colab-df-container {\n",
              "      display:flex;\n",
              "      flex-wrap:wrap;\n",
              "      gap: 12px;\n",
              "    }\n",
              "\n",
              "    .colab-df-convert {\n",
              "      background-color: #E8F0FE;\n",
              "      border: none;\n",
              "      border-radius: 50%;\n",
              "      cursor: pointer;\n",
              "      display: none;\n",
              "      fill: #1967D2;\n",
              "      height: 32px;\n",
              "      padding: 0 0 0 0;\n",
              "      width: 32px;\n",
              "    }\n",
              "\n",
              "    .colab-df-convert:hover {\n",
              "      background-color: #E2EBFA;\n",
              "      box-shadow: 0px 1px 2px rgba(60, 64, 67, 0.3), 0px 1px 3px 1px rgba(60, 64, 67, 0.15);\n",
              "      fill: #174EA6;\n",
              "    }\n",
              "\n",
              "    [theme=dark] .colab-df-convert {\n",
              "      background-color: #3B4455;\n",
              "      fill: #D2E3FC;\n",
              "    }\n",
              "\n",
              "    [theme=dark] .colab-df-convert:hover {\n",
              "      background-color: #434B5C;\n",
              "      box-shadow: 0px 1px 3px 1px rgba(0, 0, 0, 0.15);\n",
              "      filter: drop-shadow(0px 1px 2px rgba(0, 0, 0, 0.3));\n",
              "      fill: #FFFFFF;\n",
              "    }\n",
              "  </style>\n",
              "\n",
              "      <script>\n",
              "        const buttonEl =\n",
              "          document.querySelector('#df-9346bd15-bef2-4014-84fe-4e19d1483728 button.colab-df-convert');\n",
              "        buttonEl.style.display =\n",
              "          google.colab.kernel.accessAllowed ? 'block' : 'none';\n",
              "\n",
              "        async function convertToInteractive(key) {\n",
              "          const element = document.querySelector('#df-9346bd15-bef2-4014-84fe-4e19d1483728');\n",
              "          const dataTable =\n",
              "            await google.colab.kernel.invokeFunction('convertToInteractive',\n",
              "                                                     [key], {});\n",
              "          if (!dataTable) return;\n",
              "\n",
              "          const docLinkHtml = 'Like what you see? Visit the ' +\n",
              "            '<a target=\"_blank\" href=https://colab.research.google.com/notebooks/data_table.ipynb>data table notebook</a>'\n",
              "            + ' to learn more about interactive tables.';\n",
              "          element.innerHTML = '';\n",
              "          dataTable['output_type'] = 'display_data';\n",
              "          await google.colab.output.renderOutput(dataTable, element);\n",
              "          const docLink = document.createElement('div');\n",
              "          docLink.innerHTML = docLinkHtml;\n",
              "          element.appendChild(docLink);\n",
              "        }\n",
              "      </script>\n",
              "    </div>\n",
              "  </div>\n",
              "  "
            ],
            "text/plain": [
              "                                               Name PClass    Age     Sex  \\\n",
              "0                      Allen, Miss Elisabeth Walton    1st  29.00  female   \n",
              "1                       Allison, Miss Helen Loraine    1st   2.00  female   \n",
              "2               Allison, Mr Hudson Joshua Creighton    1st  30.00    male   \n",
              "3     Allison, Mrs Hudson JC (Bessie Waldo Daniels)    1st  25.00  female   \n",
              "4                     Allison, Master Hudson Trevor    1st   0.92    male   \n",
              "...                                             ...    ...    ...     ...   \n",
              "1308                             Zakarian, Mr Artun    3rd  27.00    male   \n",
              "1309                         Zakarian, Mr Maprieder    3rd  26.00    male   \n",
              "1310                               Zenni, Mr Philip    3rd  22.00    male   \n",
              "1311                               Lievens, Mr Rene    3rd  24.00    male   \n",
              "1312                                 Zimmerman, Leo    3rd  29.00    male   \n",
              "\n",
              "      Survived  Sex_cleaned  \n",
              "0            1            1  \n",
              "1            0            1  \n",
              "2            0            0  \n",
              "3            0            1  \n",
              "4            1            0  \n",
              "...        ...          ...  \n",
              "1308         0            0  \n",
              "1309         0            0  \n",
              "1310         0            0  \n",
              "1311         0            0  \n",
              "1312         0            0  \n",
              "\n",
              "[1313 rows x 6 columns]"
            ]
          },
          "metadata": {},
          "execution_count": 10
        }
      ]
    },
    {
      "cell_type": "code",
      "source": [
        "\n",
        "# Cleaning dataset of NaN\n",
        "data=data[[\n",
        "    \"Survived\",\n",
        "    \"Sex_cleaned\",\n",
        "    \"Age\"\n",
        "]].dropna(axis=0, how='any')"
      ],
      "metadata": {
        "id": "4JwthTZECOhA"
      },
      "execution_count": 11,
      "outputs": []
    },
    {
      "cell_type": "code",
      "source": [
        "data"
      ],
      "metadata": {
        "colab": {
          "base_uri": "https://localhost:8080/",
          "height": 424
        },
        "id": "pitPneHMJhC2",
        "outputId": "d7b9f8fb-65cc-4871-b643-746813e5204d"
      },
      "execution_count": 19,
      "outputs": [
        {
          "output_type": "execute_result",
          "data": {
            "text/html": [
              "\n",
              "  <div id=\"df-992ae43a-fb7d-4668-a14f-4cdca90587f5\">\n",
              "    <div class=\"colab-df-container\">\n",
              "      <div>\n",
              "<style scoped>\n",
              "    .dataframe tbody tr th:only-of-type {\n",
              "        vertical-align: middle;\n",
              "    }\n",
              "\n",
              "    .dataframe tbody tr th {\n",
              "        vertical-align: top;\n",
              "    }\n",
              "\n",
              "    .dataframe thead th {\n",
              "        text-align: right;\n",
              "    }\n",
              "</style>\n",
              "<table border=\"1\" class=\"dataframe\">\n",
              "  <thead>\n",
              "    <tr style=\"text-align: right;\">\n",
              "      <th></th>\n",
              "      <th>Survived</th>\n",
              "      <th>Sex_cleaned</th>\n",
              "      <th>Age</th>\n",
              "    </tr>\n",
              "  </thead>\n",
              "  <tbody>\n",
              "    <tr>\n",
              "      <th>0</th>\n",
              "      <td>1</td>\n",
              "      <td>1</td>\n",
              "      <td>29.00</td>\n",
              "    </tr>\n",
              "    <tr>\n",
              "      <th>1</th>\n",
              "      <td>0</td>\n",
              "      <td>1</td>\n",
              "      <td>2.00</td>\n",
              "    </tr>\n",
              "    <tr>\n",
              "      <th>2</th>\n",
              "      <td>0</td>\n",
              "      <td>0</td>\n",
              "      <td>30.00</td>\n",
              "    </tr>\n",
              "    <tr>\n",
              "      <th>3</th>\n",
              "      <td>0</td>\n",
              "      <td>1</td>\n",
              "      <td>25.00</td>\n",
              "    </tr>\n",
              "    <tr>\n",
              "      <th>4</th>\n",
              "      <td>1</td>\n",
              "      <td>0</td>\n",
              "      <td>0.92</td>\n",
              "    </tr>\n",
              "    <tr>\n",
              "      <th>...</th>\n",
              "      <td>...</td>\n",
              "      <td>...</td>\n",
              "      <td>...</td>\n",
              "    </tr>\n",
              "    <tr>\n",
              "      <th>1308</th>\n",
              "      <td>0</td>\n",
              "      <td>0</td>\n",
              "      <td>27.00</td>\n",
              "    </tr>\n",
              "    <tr>\n",
              "      <th>1309</th>\n",
              "      <td>0</td>\n",
              "      <td>0</td>\n",
              "      <td>26.00</td>\n",
              "    </tr>\n",
              "    <tr>\n",
              "      <th>1310</th>\n",
              "      <td>0</td>\n",
              "      <td>0</td>\n",
              "      <td>22.00</td>\n",
              "    </tr>\n",
              "    <tr>\n",
              "      <th>1311</th>\n",
              "      <td>0</td>\n",
              "      <td>0</td>\n",
              "      <td>24.00</td>\n",
              "    </tr>\n",
              "    <tr>\n",
              "      <th>1312</th>\n",
              "      <td>0</td>\n",
              "      <td>0</td>\n",
              "      <td>29.00</td>\n",
              "    </tr>\n",
              "  </tbody>\n",
              "</table>\n",
              "<p>756 rows × 3 columns</p>\n",
              "</div>\n",
              "      <button class=\"colab-df-convert\" onclick=\"convertToInteractive('df-992ae43a-fb7d-4668-a14f-4cdca90587f5')\"\n",
              "              title=\"Convert this dataframe to an interactive table.\"\n",
              "              style=\"display:none;\">\n",
              "        \n",
              "  <svg xmlns=\"http://www.w3.org/2000/svg\" height=\"24px\"viewBox=\"0 0 24 24\"\n",
              "       width=\"24px\">\n",
              "    <path d=\"M0 0h24v24H0V0z\" fill=\"none\"/>\n",
              "    <path d=\"M18.56 5.44l.94 2.06.94-2.06 2.06-.94-2.06-.94-.94-2.06-.94 2.06-2.06.94zm-11 1L8.5 8.5l.94-2.06 2.06-.94-2.06-.94L8.5 2.5l-.94 2.06-2.06.94zm10 10l.94 2.06.94-2.06 2.06-.94-2.06-.94-.94-2.06-.94 2.06-2.06.94z\"/><path d=\"M17.41 7.96l-1.37-1.37c-.4-.4-.92-.59-1.43-.59-.52 0-1.04.2-1.43.59L10.3 9.45l-7.72 7.72c-.78.78-.78 2.05 0 2.83L4 21.41c.39.39.9.59 1.41.59.51 0 1.02-.2 1.41-.59l7.78-7.78 2.81-2.81c.8-.78.8-2.07 0-2.86zM5.41 20L4 18.59l7.72-7.72 1.47 1.35L5.41 20z\"/>\n",
              "  </svg>\n",
              "      </button>\n",
              "      \n",
              "  <style>\n",
              "    .colab-df-container {\n",
              "      display:flex;\n",
              "      flex-wrap:wrap;\n",
              "      gap: 12px;\n",
              "    }\n",
              "\n",
              "    .colab-df-convert {\n",
              "      background-color: #E8F0FE;\n",
              "      border: none;\n",
              "      border-radius: 50%;\n",
              "      cursor: pointer;\n",
              "      display: none;\n",
              "      fill: #1967D2;\n",
              "      height: 32px;\n",
              "      padding: 0 0 0 0;\n",
              "      width: 32px;\n",
              "    }\n",
              "\n",
              "    .colab-df-convert:hover {\n",
              "      background-color: #E2EBFA;\n",
              "      box-shadow: 0px 1px 2px rgba(60, 64, 67, 0.3), 0px 1px 3px 1px rgba(60, 64, 67, 0.15);\n",
              "      fill: #174EA6;\n",
              "    }\n",
              "\n",
              "    [theme=dark] .colab-df-convert {\n",
              "      background-color: #3B4455;\n",
              "      fill: #D2E3FC;\n",
              "    }\n",
              "\n",
              "    [theme=dark] .colab-df-convert:hover {\n",
              "      background-color: #434B5C;\n",
              "      box-shadow: 0px 1px 3px 1px rgba(0, 0, 0, 0.15);\n",
              "      filter: drop-shadow(0px 1px 2px rgba(0, 0, 0, 0.3));\n",
              "      fill: #FFFFFF;\n",
              "    }\n",
              "  </style>\n",
              "\n",
              "      <script>\n",
              "        const buttonEl =\n",
              "          document.querySelector('#df-992ae43a-fb7d-4668-a14f-4cdca90587f5 button.colab-df-convert');\n",
              "        buttonEl.style.display =\n",
              "          google.colab.kernel.accessAllowed ? 'block' : 'none';\n",
              "\n",
              "        async function convertToInteractive(key) {\n",
              "          const element = document.querySelector('#df-992ae43a-fb7d-4668-a14f-4cdca90587f5');\n",
              "          const dataTable =\n",
              "            await google.colab.kernel.invokeFunction('convertToInteractive',\n",
              "                                                     [key], {});\n",
              "          if (!dataTable) return;\n",
              "\n",
              "          const docLinkHtml = 'Like what you see? Visit the ' +\n",
              "            '<a target=\"_blank\" href=https://colab.research.google.com/notebooks/data_table.ipynb>data table notebook</a>'\n",
              "            + ' to learn more about interactive tables.';\n",
              "          element.innerHTML = '';\n",
              "          dataTable['output_type'] = 'display_data';\n",
              "          await google.colab.output.renderOutput(dataTable, element);\n",
              "          const docLink = document.createElement('div');\n",
              "          docLink.innerHTML = docLinkHtml;\n",
              "          element.appendChild(docLink);\n",
              "        }\n",
              "      </script>\n",
              "    </div>\n",
              "  </div>\n",
              "  "
            ],
            "text/plain": [
              "      Survived  Sex_cleaned    Age\n",
              "0            1            1  29.00\n",
              "1            0            1   2.00\n",
              "2            0            0  30.00\n",
              "3            0            1  25.00\n",
              "4            1            0   0.92\n",
              "...        ...          ...    ...\n",
              "1308         0            0  27.00\n",
              "1309         0            0  26.00\n",
              "1310         0            0  22.00\n",
              "1311         0            0  24.00\n",
              "1312         0            0  29.00\n",
              "\n",
              "[756 rows x 3 columns]"
            ]
          },
          "metadata": {},
          "execution_count": 19
        }
      ]
    },
    {
      "cell_type": "code",
      "source": [
        "used_features =[\n",
        "    \"Sex_cleaned\",\n",
        "    \"Age\"\n",
        "]"
      ],
      "metadata": {
        "id": "TsjDf3QbCsUI"
      },
      "execution_count": 12,
      "outputs": []
    },
    {
      "cell_type": "code",
      "source": [
        "used_features"
      ],
      "metadata": {
        "colab": {
          "base_uri": "https://localhost:8080/"
        },
        "id": "cAoaiIa_Hb9B",
        "outputId": "90fdb4b5-a080-4359-d6c9-829605454a32"
      },
      "execution_count": 17,
      "outputs": [
        {
          "output_type": "execute_result",
          "data": {
            "text/plain": [
              "['Sex_cleaned', 'Age']"
            ]
          },
          "metadata": {},
          "execution_count": 17
        }
      ]
    },
    {
      "cell_type": "code",
      "source": [
        "X = data[used_features].values\n",
        "y = data[\"Survived\"]"
      ],
      "metadata": {
        "id": "wUzPIrHGCx_N"
      },
      "execution_count": 14,
      "outputs": []
    },
    {
      "cell_type": "code",
      "source": [
        "from sklearn.model_selection import train_test_split\n",
        "\n",
        "X_train, X_test, y_train, y_test = train_test_split(X, y, test_size=0.33, random_state=42)\n"
      ],
      "metadata": {
        "id": "A200tfM-C4aF"
      },
      "execution_count": 15,
      "outputs": []
    },
    {
      "cell_type": "code",
      "source": [
        "X_train"
      ],
      "metadata": {
        "colab": {
          "base_uri": "https://localhost:8080/"
        },
        "id": "BNj1yPqlb2oe",
        "outputId": "232cc8cc-388b-4a1d-e3f6-9439b3871268"
      },
      "execution_count": 28,
      "outputs": [
        {
          "output_type": "execute_result",
          "data": {
            "text/plain": [
              "array([[ 0.,  4.],\n",
              "       [ 1., 54.],\n",
              "       [ 0., 22.],\n",
              "       ...,\n",
              "       [ 0., 24.],\n",
              "       [ 0., 30.],\n",
              "       [ 0., 48.]])"
            ]
          },
          "metadata": {},
          "execution_count": 28
        }
      ]
    },
    {
      "cell_type": "code",
      "source": [
        "y_train"
      ],
      "metadata": {
        "colab": {
          "base_uri": "https://localhost:8080/"
        },
        "id": "nfuT-UtnQZBf",
        "outputId": "f76d9446-a91c-4b81-83fa-dbae68e8cf0b"
      },
      "execution_count": 27,
      "outputs": [
        {
          "output_type": "execute_result",
          "data": {
            "text/plain": [
              "895     1\n",
              "216     1\n",
              "1279    1\n",
              "890     0\n",
              "98      0\n",
              "       ..\n",
              "93      1\n",
              "134     0\n",
              "373     1\n",
              "598     0\n",
              "129     1\n",
              "Name: Survived, Length: 506, dtype: int64"
            ]
          },
          "metadata": {},
          "execution_count": 27
        }
      ]
    },
    {
      "cell_type": "code",
      "source": [
        "gnb = GaussianNB()\n",
        "gnb_fit = gnb.fit(X_train, y_train)\n",
        "y_pred = gnb_fit.predict(X)"
      ],
      "metadata": {
        "id": "Odh1LGYpHu5R"
      },
      "execution_count": 47,
      "outputs": []
    },
    {
      "cell_type": "code",
      "source": [
        "X"
      ],
      "metadata": {
        "colab": {
          "base_uri": "https://localhost:8080/"
        },
        "id": "HX5-tFvqOiCy",
        "outputId": "c77f8274-7f61-4c79-a63d-dd8fc9e173b3"
      },
      "execution_count": 49,
      "outputs": [
        {
          "output_type": "execute_result",
          "data": {
            "text/plain": [
              "array([[ 1., 29.],\n",
              "       [ 1.,  2.],\n",
              "       [ 0., 30.],\n",
              "       ...,\n",
              "       [ 0., 22.],\n",
              "       [ 0., 24.],\n",
              "       [ 0., 29.]])"
            ]
          },
          "metadata": {},
          "execution_count": 49
        }
      ]
    },
    {
      "cell_type": "code",
      "source": [
        "y_pred"
      ],
      "metadata": {
        "colab": {
          "base_uri": "https://localhost:8080/"
        },
        "id": "MCBpvqx0QkCQ",
        "outputId": "486f8ca3-a2f7-4cfa-8bf4-6357f51ce159"
      },
      "execution_count": 48,
      "outputs": [
        {
          "output_type": "execute_result",
          "data": {
            "text/plain": [
              "array([1, 1, 0, 1, 0, 0, 1, 0, 1, 0, 0, 1, 1, 0, 0, 0, 1, 0, 0, 0, 1, 0,\n",
              "       0, 0, 1, 1, 1, 1, 0, 0, 1, 1, 1, 0, 1, 1, 0, 0, 0, 1, 1, 0, 0, 0,\n",
              "       0, 1, 0, 1, 0, 1, 1, 0, 1, 1, 0, 1, 1, 0, 1, 0, 0, 1, 0, 1, 0, 1,\n",
              "       0, 1, 0, 1, 0, 1, 1, 1, 0, 1, 0, 1, 1, 0, 1, 0, 0, 1, 0, 1, 0, 1,\n",
              "       0, 1, 1, 0, 0, 0, 0, 1, 1, 1, 0, 0, 0, 1, 0, 1, 0, 1, 0, 1, 1, 1,\n",
              "       1, 1, 0, 1, 0, 0, 1, 1, 0, 0, 0, 0, 0, 1, 0, 1, 1, 1, 0, 1, 0, 1,\n",
              "       0, 0, 0, 0, 0, 0, 1, 0, 1, 0, 0, 0, 0, 1, 1, 1, 0, 0, 1, 0, 0, 0,\n",
              "       1, 0, 0, 1, 1, 0, 1, 1, 0, 1, 0, 1, 1, 0, 1, 0, 1, 0, 0, 1, 0, 0,\n",
              "       0, 0, 0, 1, 0, 1, 0, 1, 0, 0, 0, 0, 0, 1, 1, 1, 0, 1, 0, 1, 0, 1,\n",
              "       1, 0, 0, 1, 0, 0, 0, 0, 0, 0, 1, 0, 1, 0, 0, 0, 1, 1, 0, 1, 0, 1,\n",
              "       0, 0, 1, 0, 0, 0, 0, 1, 0, 0, 1, 0, 0, 0, 1, 0, 0, 0, 1, 0, 1, 1,\n",
              "       0, 1, 0, 1, 0, 0, 0, 1, 0, 1, 1, 0, 1, 0, 1, 0, 1, 0, 1, 0, 0, 1,\n",
              "       0, 0, 1, 0, 0, 0, 0, 0, 1, 1, 1, 1, 0, 0, 1, 0, 1, 0, 0, 1, 0, 0,\n",
              "       1, 1, 0, 1, 0, 0, 0, 0, 0, 1, 0, 0, 0, 1, 0, 0, 0, 0, 0, 0, 0, 0,\n",
              "       0, 0, 1, 0, 0, 0, 1, 0, 0, 1, 1, 1, 1, 0, 1, 0, 0, 0, 1, 1, 0, 1,\n",
              "       0, 0, 1, 0, 0, 0, 1, 1, 0, 1, 1, 0, 0, 1, 1, 0, 1, 1, 1, 0, 0, 1,\n",
              "       0, 0, 1, 0, 0, 0, 0, 1, 1, 0, 0, 0, 0, 0, 0, 0, 1, 0, 0, 0, 0, 0,\n",
              "       0, 1, 0, 0, 0, 0, 1, 0, 0, 1, 0, 1, 0, 1, 1, 1, 0, 0, 1, 1, 0, 0,\n",
              "       1, 0, 1, 1, 1, 1, 1, 1, 0, 1, 0, 0, 0, 0, 0, 0, 1, 0, 1, 0, 1, 0,\n",
              "       0, 1, 0, 1, 0, 1, 1, 1, 0, 1, 1, 1, 0, 0, 1, 0, 1, 0, 1, 0, 0, 0,\n",
              "       0, 1, 1, 0, 1, 0, 0, 0, 1, 0, 0, 1, 0, 0, 0, 0, 0, 0, 0, 0, 0, 1,\n",
              "       1, 1, 1, 1, 1, 0, 1, 0, 0, 0, 0, 1, 0, 0, 0, 1, 0, 0, 0, 0, 0, 1,\n",
              "       1, 0, 1, 0, 0, 0, 0, 1, 1, 1, 0, 0, 1, 1, 1, 1, 0, 0, 0, 0, 0, 0,\n",
              "       0, 0, 0, 0, 1, 0, 1, 0, 1, 1, 0, 0, 0, 0, 0, 1, 0, 1, 0, 0, 0, 0,\n",
              "       1, 0, 0, 0, 0, 0, 0, 1, 1, 0, 0, 0, 0, 0, 0, 0, 0, 0, 0, 0, 0, 0,\n",
              "       0, 1, 1, 0, 0, 0, 0, 0, 1, 0, 0, 0, 0, 0, 1, 0, 1, 0, 0, 1, 0, 1,\n",
              "       0, 0, 0, 0, 0, 0, 0, 0, 1, 0, 1, 0, 0, 1, 0, 0, 0, 1, 0, 0, 0, 0,\n",
              "       0, 1, 1, 1, 1, 0, 0, 1, 0, 0, 0, 0, 1, 1, 0, 1, 1, 0, 0, 1, 0, 1,\n",
              "       0, 0, 0, 0, 0, 1, 0, 1, 0, 1, 0, 0, 0, 0, 0, 0, 0, 0, 1, 1, 0, 1,\n",
              "       0, 0, 1, 0, 0, 0, 1, 1, 1, 1, 1, 1, 1, 0, 1, 0, 1, 1, 0, 1, 0, 0,\n",
              "       0, 0, 0, 0, 0, 0, 0, 0, 1, 0, 0, 1, 0, 0, 0, 1, 0, 1, 0, 0, 0, 0,\n",
              "       0, 0, 1, 0, 0, 1, 0, 0, 1, 0, 0, 0, 0, 0, 1, 1, 1, 0, 1, 1, 0, 0,\n",
              "       1, 1, 0, 0, 0, 0, 0, 0, 0, 1, 0, 0, 1, 1, 0, 1, 0, 1, 0, 1, 0, 1,\n",
              "       1, 1, 0, 1, 0, 0, 0, 0, 1, 0, 1, 0, 0, 0, 1, 0, 0, 0, 1, 0, 0, 0,\n",
              "       0, 0, 1, 0, 0, 0, 0, 0])"
            ]
          },
          "metadata": {},
          "execution_count": 48
        }
      ]
    },
    {
      "cell_type": "code",
      "source": [
        "y_pred_proba = gnb_fit.predict_proba(X_test)"
      ],
      "metadata": {
        "id": "QDRnFXgASWUH"
      },
      "execution_count": 40,
      "outputs": []
    },
    {
      "cell_type": "code",
      "source": [
        "from sklearn.metrics import classification_report\n",
        "print(classification_report(y_test, y_pred))"
      ],
      "metadata": {
        "colab": {
          "base_uri": "https://localhost:8080/"
        },
        "id": "dadieOX2TGir",
        "outputId": "98561483-2dae-4c45-9d49-c20295d46845"
      },
      "execution_count": 46,
      "outputs": [
        {
          "output_type": "stream",
          "name": "stdout",
          "text": [
            "              precision    recall  f1-score   support\n",
            "\n",
            "           0       0.79      0.86      0.82       144\n",
            "           1       0.78      0.69      0.73       106\n",
            "\n",
            "    accuracy                           0.79       250\n",
            "   macro avg       0.79      0.77      0.78       250\n",
            "weighted avg       0.79      0.79      0.79       250\n",
            "\n"
          ]
        }
      ]
    }
  ]
}